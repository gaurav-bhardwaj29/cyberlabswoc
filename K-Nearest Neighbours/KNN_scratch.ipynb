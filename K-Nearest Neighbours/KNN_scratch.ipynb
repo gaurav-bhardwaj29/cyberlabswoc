{
  "nbformat": 4,
  "nbformat_minor": 0,
  "metadata": {
    "colab": {
      "name": "KNN-scratch.ipynb",
      "provenance": [],
      "collapsed_sections": []
    },
    "kernelspec": {
      "name": "python3",
      "display_name": "Python 3"
    },
    "language_info": {
      "name": "python"
    }
  },
  "cells": [
    {
      "cell_type": "code",
      "source": [
        "from google.colab import drive\n",
        "drive.mount('/content/drive')"
      ],
      "metadata": {
        "colab": {
          "base_uri": "https://localhost:8080/"
        },
        "id": "LdvoaojacR31",
        "outputId": "9d9e96da-de28-4a1e-e9bc-a3b4ccdead69"
      },
      "execution_count": null,
      "outputs": [
        {
          "output_type": "stream",
          "name": "stdout",
          "text": [
            "Mounted at /content/drive\n"
          ]
        }
      ]
    },
    {
      "cell_type": "code",
      "source": [
        "train_df = pd.read_csv(\"/content/drive/MyDrive/logistic_data/emnist-letters-train.csv\")\n",
        "test_df = pd.read_csv(\"/content/drive/MyDrive/logistic_data/emnist-letters-test.csv\")"
      ],
      "metadata": {
        "id": "MaVwG8RbcR1X"
      },
      "execution_count": null,
      "outputs": []
    },
    {
      "cell_type": "code",
      "execution_count": 1,
      "metadata": {
        "id": "Jd0RF_o0cOz3"
      },
      "outputs": [],
      "source": [
        "import pandas as pd\n",
        "import numpy as np\n",
        "import math\n",
        "import matplotlib.pyplot as plt\n",
        "import statistics\n",
        "\n",
        "from pandas import DataFrame\n",
        "from collections import Counter\n"
      ]
    },
    {
      "cell_type": "code",
      "source": [
        "y_train = train_df[\"23\"].to_numpy()\n",
        "x_train = train_df.drop(train_df.columns[0], axis =1 )\n",
        "x_train = x_train.to_numpy()\n",
        "# x_train = train_df/256.0"
      ],
      "metadata": {
        "id": "sitwo4NrcaiQ"
      },
      "execution_count": null,
      "outputs": []
    },
    {
      "cell_type": "code",
      "source": [
        "y_test = test_df[\"1\"].to_numpy()\n",
        "x_test = test_df.drop(test_df.columns[0], axis =1 )\n",
        "# x_test = test_df/256.0\n",
        "x_test = x_test.to_numpy()"
      ],
      "metadata": {
        "id": "DYrycnsTcagH"
      },
      "execution_count": null,
      "outputs": []
    },
    {
      "cell_type": "code",
      "source": [
        "class knn:\n",
        "    def __init__(self,x_train,y_train,x_test,k):\n",
        "        self.x_train=x_train\n",
        "        self.y_train=y_train\n",
        "        self.x_test=x_test\n",
        "        self.numrow=len(x_train)\n",
        "        self.numrow1=len(x_test)\n",
        "        self.numcol=len(x_train[0])\n",
        "        self.k=k\n",
        "    def neighbours(self,x):\n",
        "        d=np.zeros((self.numrow,1),dtype=int)\n",
        "        self.xtest=np.tile(x, (self.numrow, 1))\n",
        "        y= np.square(self.xtest-self.x_train)\n",
        "        dist=np.sqrt(y.sum(axis=1))\n",
        "        sort = np.argsort(dist)[: self.k]\n",
        "\n",
        "        self.y_train1 = [self.y_train[i] for i in sort]\n",
        "        most_common = Counter(self.y_train1).most_common(1)\n",
        "        return most_common[0][0]\n",
        "        \n",
        "    def finalout(self):\n",
        "        y_ans=np.zeros(self.numrow1,dtype=int)\n",
        "        for i in range(0,self.numrow1):\n",
        "            y_ans[i]=self.neighbours(self.x_test[i]) \n",
        "        return y_ans\n",
        "         "
      ],
      "metadata": {
        "id": "qrp0ompGcaa-"
      },
      "execution_count": 2,
      "outputs": []
    },
    {
      "cell_type": "code",
      "source": [
        "y_predfin=knn(x_train,y_train,x_test,5).finalout()"
      ],
      "metadata": {
        "id": "hIq8WV8VcaYq"
      },
      "execution_count": null,
      "outputs": []
    },
    {
      "cell_type": "code",
      "source": [
        "count=0\n",
        "for i in range(len(y_test)):\n",
        "    if y_test[i]==y_predfin[i]:\n",
        "        count+=1"
      ],
      "metadata": {
        "id": "E_5ElmmLcaWV"
      },
      "execution_count": null,
      "outputs": []
    },
    {
      "cell_type": "code",
      "source": [
        "accuracy=(count/len(y_test)*100)\n",
        "accuracy"
      ],
      "metadata": {
        "colab": {
          "base_uri": "https://localhost:8080/"
        },
        "id": "4KllSUr2caT8",
        "outputId": "90e9c7df-52d6-4576-df0d-36072937b93f"
      },
      "execution_count": null,
      "outputs": [
        {
          "output_type": "execute_result",
          "data": {
            "text/plain": [
              "84.18136360564903"
            ]
          },
          "metadata": {},
          "execution_count": 43
        }
      ]
    }
  ]
}
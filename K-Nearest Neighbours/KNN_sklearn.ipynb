{
  "nbformat": 4,
  "nbformat_minor": 0,
  "metadata": {
    "colab": {
      "name": "KNN-sklearn.ipynb",
      "provenance": [],
      "collapsed_sections": []
    },
    "kernelspec": {
      "name": "python3",
      "display_name": "Python 3"
    },
    "language_info": {
      "name": "python"
    }
  },
  "cells": [
    {
      "cell_type": "code",
      "execution_count": null,
      "metadata": {
        "id": "3eNXy0ZLSd56"
      },
      "outputs": [],
      "source": [
        ""
      ]
    },
    {
      "cell_type": "code",
      "execution_count": null,
      "metadata": {
        "id": "cZO9Mj4-LiZS"
      },
      "outputs": [],
      "source": [
        "import numpy as np\n",
        "import pandas as pd\n",
        "import matplotlib.pyplot as plt"
      ]
    },
    {
      "cell_type": "code",
      "source": [
        "from google.colab import drive\n",
        "drive.mount('/content/drive')"
      ],
      "metadata": {
        "colab": {
          "base_uri": "https://localhost:8080/"
        },
        "id": "ed4eeOyPo7cL",
        "outputId": "40ab8644-a585-412f-d64e-013587fc4295"
      },
      "execution_count": null,
      "outputs": [
        {
          "output_type": "stream",
          "name": "stdout",
          "text": [
            "Mounted at /content/drive\n"
          ]
        }
      ]
    },
    {
      "cell_type": "code",
      "source": [
        "train_df = pd.read_csv(\"/content/drive/MyDrive/logistic_data/emnist-letters-train.csv\")\n",
        "test_df = pd.read_csv(\"/content/drive/MyDrive/logistic_data/emnist-letters-test.csv\")"
      ],
      "metadata": {
        "id": "zRWn04pBpD8s"
      },
      "execution_count": null,
      "outputs": []
    },
    {
      "cell_type": "code",
      "source": [
        "y_train = train_df[\"23\"]\n",
        "train_df.drop(train_df.columns[0], axis =1 , inplace =True)\n",
        "x_train = train_df/256.0\n"
      ],
      "metadata": {
        "id": "GjXP4Dm8Sjas"
      },
      "execution_count": null,
      "outputs": []
    },
    {
      "cell_type": "code",
      "source": [
        "y_test = test_df[\"1\"]\n",
        "test_df.drop(test_df.columns[0], axis =1 , inplace = True)\n",
        "x_test = test_df/256.0"
      ],
      "metadata": {
        "id": "XKlMhSx3SjYT"
      },
      "execution_count": null,
      "outputs": []
    },
    {
      "cell_type": "code",
      "source": [
        "knn = KNeighborsClassifier()\n",
        "from sklearn.model_selection import GridSearchCV\n",
        "k_range = list(range(1, 10))\n",
        "param_grid = dict(n_neighbors=k_range)\n",
        "  \n",
        "# defining parameter range\n",
        "grid = GridSearchCV(knn, param_grid, cv=10, scoring='accuracy', return_train_score=False,verbose=1)\n",
        "  \n",
        "# fitting the model for grid search\n",
        "grid_search=grid.fit(x_train, y_train)\n"
      ],
      "metadata": {
        "colab": {
          "base_uri": "https://localhost:8080/"
        },
        "id": "gXvjQM6AXQr8",
        "outputId": "649303fa-da1e-4aa4-afbf-af4ae70c5f40"
      },
      "execution_count": null,
      "outputs": [
        {
          "output_type": "stream",
          "name": "stdout",
          "text": [
            "Fitting 10 folds for each of 9 candidates, totalling 90 fits\n"
          ]
        }
      ]
    },
    {
      "cell_type": "code",
      "source": [
        "print(grid_search.best_params_)"
      ],
      "metadata": {
        "colab": {
          "base_uri": "https://localhost:8080/"
        },
        "id": "oAEkdWhaXQpd",
        "outputId": "026a8d37-7c69-4687-c2f7-1ec4f3aa9148"
      },
      "execution_count": null,
      "outputs": [
        {
          "output_type": "stream",
          "name": "stdout",
          "text": [
            "{'n_neighbors': 5}\n"
          ]
        }
      ]
    },
    {
      "cell_type": "code",
      "source": [
        "from sklearn.neighbors import KNeighborsClassifier\n",
        "classifier = KNeighborsClassifier(n_neighbors = 5, metric = 'minkowski', p = 2)\n",
        "classifier.fit(x_train, y_train)\n",
        "\n",
        "# Predicting the Test set results\n",
        "y_pred = classifier.predict(x_test)\n",
        "\n",
        "# Making the Confusion Matrix\n",
        "from sklearn.metrics import confusion_matrix, accuracy_score\n",
        "cm = confusion_matrix(y_test, y_pred)\n",
        "ac = accuracy_score(y_test, y_pred)"
      ],
      "metadata": {
        "id": "AVOWIzmJXQkq"
      },
      "execution_count": null,
      "outputs": []
    },
    {
      "cell_type": "code",
      "source": [
        "print(cm)"
      ],
      "metadata": {
        "colab": {
          "base_uri": "https://localhost:8080/"
        },
        "id": "O6TLhxWjwMr0",
        "outputId": "701be2d7-ad0b-481a-e5b5-5b48bd1a8c19"
      },
      "execution_count": null,
      "outputs": [
        {
          "output_type": "stream",
          "name": "stdout",
          "text": [
            "[[681   2   2   7   3   1   3  14   3   1   1   2   0  16  36   6   4   2\n",
            "    0   1   4   0   2   1   0   7]\n",
            " [  6 657   4   9  21   4   4  29   5   3   0   7   0   1   9  26   0   2\n",
            "    4   0   0   0   0   0   0   9]\n",
            " [  0   0 762   1  17   0   0   0   2   0   0   3   0   0   5   0   0   6\n",
            "    1   0   3   0   0   0   0   0]\n",
            " [  7   5   1 661   0   0   0   1   6  18   1   9   1   3  70   4   1   1\n",
            "    1   0   3   3   1   0   0   3]\n",
            " [  6   3  34   0 717  13   1   0   3   0   0   7   0   0   4   2   1   4\n",
            "    3   1   1   0   0   0   0   0]\n",
            " [  1   0   1   0   2 661   0   0   8   2   0  20   0   0   0  38   0  24\n",
            "    4  37   1   0   0   0   1   0]\n",
            " [ 28  10  38   2  12   5 512   3   8  16   0   1   0   3  11   0 117   1\n",
            "   16   1   4   1   0   1  10   0]\n",
            " [  6   7   1   2   0   0   0 714   2   0   6  17   2  31   0   0   0   2\n",
            "    0   3   5   0   2   0   0   0]\n",
            " [  1   0   2   1   1   0   1   0 587  12   0 181   0   0   0   0   0   0\n",
            "    1   5   0   2   0   1   0   5]\n",
            " [  1   1   0   7   0   1   3   0  29 702   0  10   0   0   0   0   0   1\n",
            "   10  32   1   1   0   0   0   1]\n",
            " [  3   3  10   0   0   2   0  43  11   0 673  12   1   3   0   0   0   8\n",
            "    0   1   4  10   1  13   2   0]\n",
            " [  0   1  10   0   0   1   0   2 205   2   0 578   0   0   1   0   0   0\n",
            "    0   0   0   0   0   0   0   0]\n",
            " [  3   0   0   0   0   0   0   6   0   0   1   0 766  16   1   0   0   1\n",
            "    0   1   2   1   0   2   0   0]\n",
            " [ 15   0   0   2   0   0   0  20   0   4   1   1   9 727   2   0   0   8\n",
            "    0   0   4   3   2   0   2   0]\n",
            " [  2   0   8   7   0   0   0   0   2   0   0   0   0   1 777   0   0   1\n",
            "    0   0   2   0   0   0   0   0]\n",
            " [  0   0   0   4   4  19   0   2   5   1   0   5   0   3   4 734   0   7\n",
            "    0  11   0   0   0   0   1   0]\n",
            " [ 59   3  12   4   5   3  71   1  11   2   1  16   0   1  64   2 515   2\n",
            "    2   8   8   0   1   0   7   2]\n",
            " [ 16   1   6   0  14   4   0   1   4   0  24   2   1   2   0  33   1 669\n",
            "    0   2   1   9   0   2   3   5]\n",
            " [  0   0   3   0   1   1   3   1   1   8   0   0   0   0   2   0   0   0\n",
            "  380   0   0   0   0   0   0   0]\n",
            " [  0   0   0   0   0   0   0   0   0   0   0   0   0   0   0   0   0   0\n",
            "    0   0   0   0   0   0   0   0]\n",
            " [  0   0   0   0   0   0   0   0   0   0   0   0   0   0   0   0   0   0\n",
            "    0   0   0   0   0   0   0   0]\n",
            " [  0   0   0   0   0   0   0   0   0   0   0   0   0   0   0   0   0   0\n",
            "    0   0   0   0   0   0   0   0]\n",
            " [  0   0   0   0   0   0   0   0   0   0   0   0   0   0   0   0   0   0\n",
            "    0   0   0   0   0   0   0   0]\n",
            " [  0   0   0   0   0   0   0   0   0   0   0   0   0   0   0   0   0   0\n",
            "    0   0   0   0   0   0   0   0]\n",
            " [  0   0   0   0   0   0   0   0   0   0   0   0   0   0   0   0   0   0\n",
            "    0   0   0   0   0   0   0   0]\n",
            " [  0   0   0   0   0   0   0   0   0   0   0   0   0   0   0   0   0   0\n",
            "    0   0   0   0   0   0   0   0]]\n"
          ]
        }
      ]
    },
    {
      "cell_type": "code",
      "source": [
        "print(\"Accuracy with sklearn cassifier: \", ac*100)"
      ],
      "metadata": {
        "colab": {
          "base_uri": "https://localhost:8080/"
        },
        "id": "hdSqcPWfw8kT",
        "outputId": "16ea052c-ab18-4c18-a424-4d4ce66c9fa2"
      },
      "execution_count": null,
      "outputs": [
        {
          "output_type": "stream",
          "name": "stdout",
          "text": [
            "Accuracy with sklearn cassifier:  84.2827218055274\n"
          ]
        }
      ]
    },
    {
      "cell_type": "code",
      "source": [
        ""
      ],
      "metadata": {
        "id": "FAmHBVbGwMg_"
      },
      "execution_count": null,
      "outputs": []
    }
  ]
}
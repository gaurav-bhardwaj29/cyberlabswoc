{
  "nbformat": 4,
  "nbformat_minor": 0,
  "metadata": {
    "colab": {
      "name": "K-means.ipynb",
      "provenance": [],
      "collapsed_sections": []
    },
    "kernelspec": {
      "name": "python3",
      "display_name": "Python 3"
    },
    "language_info": {
      "name": "python"
    }
  },
  "cells": [
    {
      "cell_type": "code",
      "execution_count": 1,
      "metadata": {
        "colab": {
          "base_uri": "https://localhost:8080/"
        },
        "id": "klbYqrfVVNnd",
        "outputId": "f208f97c-5d10-43a7-dd7a-65b0778cfc0d"
      },
      "outputs": [
        {
          "output_type": "stream",
          "name": "stdout",
          "text": [
            "Mounted at /content/drive\n"
          ]
        }
      ],
      "source": [
        "from google.colab import drive\n",
        "drive.mount('/content/drive')"
      ]
    },
    {
      "cell_type": "markdown",
      "source": [
        "### Import necessary libraries"
      ],
      "metadata": {
        "id": "TojITCwyD9AI"
      }
    },
    {
      "cell_type": "code",
      "source": [
        "import pandas as pd\n",
        "import numpy as np\n",
        "import matplotlib.pyplot as plt"
      ],
      "metadata": {
        "id": "LyAlgHdEVWTj"
      },
      "execution_count": 2,
      "outputs": []
    },
    {
      "cell_type": "markdown",
      "source": [
        "### K-means class"
      ],
      "metadata": {
        "id": "Xad3qFbeEB0P"
      }
    },
    {
      "cell_type": "code",
      "source": [
        "class K_clust:\n",
        "\n",
        "    def set(self,Xin,noc):\n",
        "        self.X=Xin\n",
        "        self.m=self.X.shape[0] # number of training examples\n",
        "        self.k=noc      # number of clusters user requires\n",
        "        ind=np.random.choice(self.m,self.k) # selects k random indices from our dataset\n",
        "        self.centroids=self.X[ind,:] # initialise centroids to the values at those indices\n",
        "\n",
        "    def set_k(self,noc):\n",
        "        self.k=noc;   # number of clusters       \n",
        "\n",
        "    def sq_dist(self,X1,X2,ax=1):\n",
        "        \n",
        "        return np.linalg.norm(X1-X2,axis=ax)\n",
        "\n",
        "    def assign_clust(self):\n",
        "        \"\"\" \n",
        "        This function will assign cluster to each training example, such that it gets assigned to that\n",
        "        cluster whose centroid is nearest to it\n",
        "        \"\"\"\n",
        "        clust=np.zeros(self.m,dtype=np.int64)\n",
        "        for i in range(self.m):\n",
        "            clust[i]=np.argmin(self.sq_dist(self.X[i],self.centroids))\n",
        "        return clust\n",
        "\n",
        "    def move_cent(self,clust):\n",
        "        \"\"\" This function will move the centroids to the mean positions of their respective clusters\"\"\"\n",
        "        for i in range(self.k):\n",
        "            ind_match=np.argwhere(i==(clust)) # To store indices that match with a particular cluster\n",
        "            self.centroids[i,:]=np.mean(self.X[ind_match,:],axis=0)\n",
        "\n",
        "    def fit(self,noi=100):\n",
        "        \n",
        "        for i in range(noi):\n",
        "            clust=self.assign_clust()\n",
        "            self.move_cent(clust)\n",
        "        return clust\n",
        "\n",
        "    def predict(self,Xtest):\n",
        "        \n",
        "        m = Xtest.shape[0]\n",
        "        clust=np.zeros(m,dtype=np.int64)\n",
        "        for i in range(m):\n",
        "            clust[i]=np.argmin(self.sq_dist(Xtest[i],self.centroids))\n",
        "        return clust\n"
      ],
      "metadata": {
        "id": "xitt_7-ZVWRK"
      },
      "execution_count": 3,
      "outputs": []
    },
    {
      "cell_type": "markdown",
      "source": [
        "### Loading the datasets"
      ],
      "metadata": {
        "id": "nyeYc_PJEKH1"
      }
    },
    {
      "cell_type": "code",
      "source": [
        "train_df = pd.read_csv(\"/content/drive/MyDrive/logistic_data/emnist-letters-train.csv\")"
      ],
      "metadata": {
        "id": "RzncsBLMVWOv"
      },
      "execution_count": 4,
      "outputs": []
    },
    {
      "cell_type": "code",
      "source": [
        "test_df = pd.read_csv(\"/content/drive/MyDrive/logistic_data/emnist-letters-test.csv\")"
      ],
      "metadata": {
        "id": "PbU2i7D_VWMf"
      },
      "execution_count": 11,
      "outputs": []
    },
    {
      "cell_type": "markdown",
      "source": [
        ""
      ],
      "metadata": {
        "id": "uBeV4WmlEmgf"
      }
    },
    {
      "cell_type": "code",
      "source": [
        "y_train = train_df['23'].values\n",
        "x_train = train_df[train_df.columns[1:]]\n",
        "x_train = x_train/256.0\n",
        "x_train = x_train.values"
      ],
      "metadata": {
        "id": "1zv_e84qVWKL"
      },
      "execution_count": 6,
      "outputs": []
    },
    {
      "cell_type": "code",
      "source": [
        "tr = K_clust()\n",
        "tr.set(x_train, 70)\n",
        "prediction = tr.fit(noi = 100)\n",
        "cl = prediction"
      ],
      "metadata": {
        "id": "unKwy5LzVWHd"
      },
      "execution_count": 8,
      "outputs": []
    },
    {
      "cell_type": "markdown",
      "source": [
        "#### Retrieving id's wrt cluster labels"
      ],
      "metadata": {
        "id": "SwopeS25EsgF"
      }
    },
    {
      "cell_type": "code",
      "source": [
        "def retrieve_info(cluster_labels,y_train):\n",
        "\n",
        "# Initializing\n",
        "  reference_labels = {}\n",
        "# For loop to run through each label of cluster label\n",
        "  for i in range(len(np.unique(cl))):\n",
        "    index = np.where(cluster_labels == i,1,0)\n",
        "    num = np.bincount(y_train[index==1]).argmax()\n",
        "    reference_labels[i] = num\n",
        "  return reference_labels\n",
        "reference_labels = retrieve_info(cl,y_train)\n",
        "number_labels = np.random.rand(len(cl))\n",
        "for i in range(len(cl)):\n",
        "  number_labels[i] = reference_labels[cl[i]]\n",
        "print(number_labels[:20].astype('int32'))\n",
        "print(y_train[:20])"
      ],
      "metadata": {
        "colab": {
          "base_uri": "https://localhost:8080/"
        },
        "id": "Ob5Aj4fnVWE7",
        "outputId": "ebe4b14f-d8e6-484c-c718-77e35ae1b3cd"
      },
      "execution_count": 9,
      "outputs": [
        {
          "output_type": "stream",
          "name": "stdout",
          "text": [
            "[15 16 15 14 20 13 11 22 24 20 11 13 22 25 21 21 11 19  7 26]\n",
            "[ 7 16 15 23 17 13 11 22 24 10 14 18 21 26 21 21 24 19  5  2]\n"
          ]
        }
      ]
    },
    {
      "cell_type": "markdown",
      "source": [
        "### Calculating accuracy for train set"
      ],
      "metadata": {
        "id": "_aF3AtFxFGjV"
      }
    },
    {
      "cell_type": "code",
      "source": [
        "from sklearn.metrics import accuracy_score\n",
        "print(accuracy_score(number_labels,y_train)*100)"
      ],
      "metadata": {
        "colab": {
          "base_uri": "https://localhost:8080/"
        },
        "id": "0Omiu1eQVWCs",
        "outputId": "5efd2d47-5645-4be9-d1d7-3e2c2c1ed730"
      },
      "execution_count": 10,
      "outputs": [
        {
          "output_type": "stream",
          "name": "stdout",
          "text": [
            "51.03886305025958\n"
          ]
        }
      ]
    },
    {
      "cell_type": "markdown",
      "source": [
        "### Calculating model's accuracy on test dataset"
      ],
      "metadata": {
        "id": "iXzhGX6sFPEG"
      }
    },
    {
      "cell_type": "code",
      "source": [
        "y_test = test_df[\"1\"].values\n",
        "x_test = test_df[test_df.columns[1:]]\n",
        "x_test = x_test/256.0\n",
        "x_test = x_test.values\n",
        "tr1 = K_clust()\n",
        "tr1.set(x_test, 70)\n",
        "prediction1 = tr1.fit(noi = 100)\n",
        "cl1 = prediction1\n",
        "reference_labels1 = retrieve_info(cl1,y_test)\n",
        "number_labels1 = np.random.rand(len(cl1))\n",
        "for i in range(len(cl1)):\n",
        "  number_labels1[i] = reference_labels1[cl1[i]]\n",
        "from sklearn.metrics import accuracy_score\n",
        "print(accuracy_score(number_labels1,y_test)*100)"
      ],
      "metadata": {
        "colab": {
          "base_uri": "https://localhost:8080/"
        },
        "id": "8usnssfc27H_",
        "outputId": "79a9cf66-64c5-4e77-c974-049161e50f3b"
      },
      "execution_count": 12,
      "outputs": [
        {
          "output_type": "stream",
          "name": "stdout",
          "text": [
            "55.753767146428814\n"
          ]
        }
      ]
    },
    {
      "cell_type": "code",
      "source": [
        ""
      ],
      "metadata": {
        "id": "TR4XIs_m26xi"
      },
      "execution_count": null,
      "outputs": []
    },
    {
      "cell_type": "code",
      "source": [
        ""
      ],
      "metadata": {
        "id": "EiGZsEvG26u0"
      },
      "execution_count": null,
      "outputs": []
    },
    {
      "cell_type": "code",
      "source": [
        ""
      ],
      "metadata": {
        "id": "cbd2Iifb26so"
      },
      "execution_count": null,
      "outputs": []
    },
    {
      "cell_type": "code",
      "source": [
        ""
      ],
      "metadata": {
        "id": "s0F2TIwh26pw"
      },
      "execution_count": null,
      "outputs": []
    }
  ]
}
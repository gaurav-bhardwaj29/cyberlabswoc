{
  "nbformat": 4,
  "nbformat_minor": 0,
  "metadata": {
    "colab": {
      "name": "NNEmnist.ipynb",
      "provenance": [],
      "collapsed_sections": []
    },
    "kernelspec": {
      "name": "python3",
      "display_name": "Python 3"
    },
    "language_info": {
      "name": "python"
    }
  },
  "cells": [
    {
      "cell_type": "markdown",
      "source": [
        "### Importing necessary Libraries"
      ],
      "metadata": {
        "id": "0cjKA_eO6ZjD"
      }
    },
    {
      "cell_type": "code",
      "execution_count": 20,
      "metadata": {
        "id": "3hCjKU_7r9y6"
      },
      "outputs": [],
      "source": [
        "\n",
        "import numpy as np \n",
        "import pandas as pd \n",
        "from matplotlib import pyplot as plt\n",
        "%matplotlib inline"
      ]
    },
    {
      "cell_type": "code",
      "source": [
        "from google.colab import drive\n",
        "drive.mount('/content/drive')"
      ],
      "metadata": {
        "colab": {
          "base_uri": "https://localhost:8080/"
        },
        "id": "BggQjqsqyE9U",
        "outputId": "d74a930f-d139-466e-c9a6-c63054418a61"
      },
      "execution_count": 2,
      "outputs": [
        {
          "output_type": "stream",
          "name": "stdout",
          "text": [
            "Mounted at /content/drive\n"
          ]
        }
      ]
    },
    {
      "cell_type": "markdown",
      "source": [
        "### Loading the Datasets"
      ],
      "metadata": {
        "id": "Z34HVvjU6guw"
      }
    },
    {
      "cell_type": "code",
      "source": [
        "\n",
        "train = pd.read_csv(\"/content/drive/MyDrive/logistic_data/emnist-letters-train.csv\")\n",
        "test = pd.read_csv(\"/content/drive/MyDrive/logistic_data/emnist-letters-test.csv\")"
      ],
      "metadata": {
        "id": "ESsZNcua1uj3"
      },
      "execution_count": 5,
      "outputs": []
    },
    {
      "cell_type": "code",
      "source": [
        "y1 = np.array(train.iloc[:,0].values)\n",
        "x1 = np.array(train.iloc[:,1:].values)\n",
        "y2 = np.array(test.iloc[:,0].values)\n",
        "x2 = np.array(test.iloc[:,1:].values)"
      ],
      "metadata": {
        "id": "1AFZDtx910kZ"
      },
      "execution_count": 6,
      "outputs": []
    },
    {
      "cell_type": "markdown",
      "source": [
        "###Normalizing features"
      ],
      "metadata": {
        "id": "AAUONogS6tp_"
      }
    },
    {
      "cell_type": "code",
      "source": [
        "X_train = x1.transpose()/255.0\n",
        "Y_train = y1.reshape(1,y1.shape[0])-1\n",
        "X_test = x2.transpose()/255.0\n",
        "Y_test = y2.reshape(1,y2.shape[0])-1"
      ],
      "metadata": {
        "id": "VcZ3WurR3Jy9"
      },
      "execution_count": 8,
      "outputs": []
    },
    {
      "cell_type": "markdown",
      "source": [
        "#### Creating neural networks class"
      ],
      "metadata": {
        "id": "uWDGv3YX6ltg"
      }
    },
    {
      "cell_type": "code",
      "source": [
        "class Neural:\n",
        "  def init_params():\n",
        "    W1 = np.random.rand(26, 784) - 0.5\n",
        "    b1 = np.random.rand(26, 1) - 0.5\n",
        "    W2 = np.random.rand(26, 26) - 0.5\n",
        "    b2 = np.random.rand(26, 1) - 0.5\n",
        "    return W1, b1, W2, b2\n",
        "\n",
        "  def tanh(Z):\n",
        "    return np.tanh(Z)\n",
        "\n",
        "  def softmax(Z):\n",
        "      A = np.exp(Z) / sum(np.exp(Z))\n",
        "      return A\n",
        "      \n",
        "  def forward_prop(W1, b1, W2, b2, X):\n",
        "      Z1 = W1.dot(X) + b1\n",
        "      A1 = Neural.tanh(Z1)\n",
        "      Z2 = W2.dot(A1) + b2\n",
        "      A2 = Neural.softmax(Z2)\n",
        "      return Z1, A1, Z2, A2\n",
        "\n",
        "  def derivative_tanh(Z):\n",
        "    return (1 - np.power(np.tanh(Z), 2))\n",
        "\n",
        "  def label_binarizer(Y):\n",
        "      label_binarizer_Y = np.zeros((Y.size, Y.max() + 1))\n",
        "      label_binarizer_Y[np.arange(Y.size), Y] = 1\n",
        "      label_binarizer_Y = label_binarizer_Y.T\n",
        "      return label_binarizer_Y\n",
        "\n",
        "  def backward_prop(Z1, A1, Z2, A2, W1, W2, X, Y):\n",
        "      m = X_train.shape[1]\n",
        "      label_binarizer_Y = Neural.label_binarizer(Y)\n",
        "      dZ2 = A2 - label_binarizer_Y\n",
        "      dW2 = 1 / m * dZ2.dot(A1.T)\n",
        "      db2 = 1 / m * np.sum(dZ2)\n",
        "      dZ1 = W2.T.dot(dZ2) * Neural.derivative_tanh(Z1)\n",
        "      dW1 = 1 / m * dZ1.dot(X.T)\n",
        "      db1 = 1 / m * np.sum(dZ1)\n",
        "      return dW1, db1, dW2, db2\n",
        "\n",
        "  def update_params(W1, b1, W2, b2, dW1, db1, dW2, db2, alpha):\n",
        "      W1 = W1 - alpha * dW1\n",
        "      b1 = b1 - alpha * db1    \n",
        "      W2 = W2 - alpha * dW2  \n",
        "      b2 = b2 - alpha * db2    \n",
        "      return W1, b1, W2, b2\n",
        "  def get_predictions(A2):\n",
        "      return np.argmax(A2, 0)\n",
        "\n",
        "  def get_accuracy(predictions, Y):\n",
        "      return np.sum(predictions == Y) / Y.size\n",
        "\n",
        "  def gradient_descent(X, Y, alpha, iterations):\n",
        "      W1, b1, W2, b2 = Neural.init_params()\n",
        "      for i in range(iterations+1):\n",
        "          Z1, A1, Z2, A2 = Neural.forward_prop(W1, b1, W2, b2, X)\n",
        "          dW1, db1, dW2, db2 = Neural.backward_prop(Z1, A1, Z2, A2, W1, W2, X, Y)\n",
        "          W1, b1, W2, b2 = Neural.update_params(W1, b1, W2, b2, dW1, db1, dW2, db2, alpha)\n",
        "          if i % 100 == 0:\n",
        "              print(\"Iteration: \", i)\n",
        "              predictions = Neural.get_predictions(A2)\n",
        "              print(Neural.get_accuracy(predictions, Y))\n",
        "      return W1, b1, W2, b2\n",
        "  \n",
        "  def test_net(W1,b1,W2,b2,X,y):\n",
        "    Z1, A1, Z2, A2 = Neural.forward_prop(W1, b1, W2, b2, X)\n",
        "    predictions = Neural.get_predictions(A2)\n",
        "    print(Neural.get_accuracy(predictions, y)) \n"
      ],
      "metadata": {
        "id": "v16Tc8LG1-IZ"
      },
      "execution_count": 16,
      "outputs": []
    },
    {
      "cell_type": "markdown",
      "source": [
        "### Predicting accuracy on train set"
      ],
      "metadata": {
        "id": "ynISyAYU63LM"
      }
    },
    {
      "cell_type": "code",
      "source": [
        "W1, b1, W2, b2 = Neural.gradient_descent(X_train, Y_train, 1.0, 1000)"
      ],
      "metadata": {
        "colab": {
          "base_uri": "https://localhost:8080/"
        },
        "id": "n5YuHxjh3Dro",
        "outputId": "2e349512-aa16-446b-b5a8-2ec883c135d1"
      },
      "execution_count": 17,
      "outputs": [
        {
          "output_type": "stream",
          "name": "stdout",
          "text": [
            "Iteration:  0\n",
            "0.0448766314935979\n",
            "Iteration:  100\n",
            "0.5978558317098166\n",
            "Iteration:  200\n",
            "0.6572146082726157\n",
            "Iteration:  300\n",
            "0.6894897465061544\n",
            "Iteration:  400\n",
            "0.709929165868985\n",
            "Iteration:  500\n",
            "0.7248392436851766\n",
            "Iteration:  600\n",
            "0.7362695525850517\n",
            "Iteration:  700\n",
            "0.7466975979459228\n",
            "Iteration:  800\n",
            "0.7547607518102681\n",
            "Iteration:  900\n",
            "0.7613036182839897\n",
            "Iteration:  1000\n",
            "0.7676325183842161\n"
          ]
        }
      ]
    },
    {
      "cell_type": "markdown",
      "source": [
        "###Predicting accuracy on test set"
      ],
      "metadata": {
        "id": "AhSxrQDD69TZ"
      }
    },
    {
      "cell_type": "code",
      "source": [
        "Neural.test_net(W1, b1, W2, b2, X_test, Y_test)"
      ],
      "metadata": {
        "id": "WyZuTiP031RC",
        "colab": {
          "base_uri": "https://localhost:8080/"
        },
        "outputId": "0c8390ff-7836-4677-b6a7-7d8162041d60"
      },
      "execution_count": 18,
      "outputs": [
        {
          "output_type": "stream",
          "name": "stdout",
          "text": [
            "0.7307926211230489\n"
          ]
        }
      ]
    }
  ]
}
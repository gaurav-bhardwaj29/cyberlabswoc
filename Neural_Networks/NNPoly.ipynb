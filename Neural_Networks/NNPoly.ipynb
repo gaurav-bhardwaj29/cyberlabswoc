{
  "nbformat": 4,
  "nbformat_minor": 0,
  "metadata": {
    "colab": {
      "name": "NNPoly.ipynb",
      "provenance": [],
      "collapsed_sections": []
    },
    "kernelspec": {
      "name": "python3",
      "display_name": "Python 3"
    },
    "language_info": {
      "name": "python"
    }
  },
  "cells": [
    {
      "cell_type": "markdown",
      "source": [
        "###Import necessary libraries"
      ],
      "metadata": {
        "id": "hwfc69u_CV2D"
      }
    },
    {
      "cell_type": "code",
      "execution_count": 1,
      "metadata": {
        "id": "FZ5PaWLkTp5S"
      },
      "outputs": [],
      "source": [
        "import pandas as pd\n",
        "import matplotlib.pyplot as plt\n",
        "import numpy as np"
      ]
    },
    {
      "cell_type": "code",
      "source": [
        "from google.colab import drive\n",
        "drive.mount('/content/drive')"
      ],
      "metadata": {
        "colab": {
          "base_uri": "https://localhost:8080/"
        },
        "id": "pTcGiwBxTwGY",
        "outputId": "6cb7c9f7-28e3-4571-91bd-2a9280b457ba"
      },
      "execution_count": 4,
      "outputs": [
        {
          "output_type": "stream",
          "name": "stdout",
          "text": [
            "Mounted at /content/drive\n"
          ]
        }
      ]
    },
    {
      "cell_type": "markdown",
      "source": [
        "### Loading the datasets"
      ],
      "metadata": {
        "id": "HMSYnOfhCcvz"
      }
    },
    {
      "cell_type": "code",
      "source": [
        "df = pd.read_csv(\"/content/drive/MyDrive/polynomial/Polynomial_train.csv\")"
      ],
      "metadata": {
        "id": "k0X2T_qZTwI4"
      },
      "execution_count": 5,
      "outputs": []
    },
    {
      "cell_type": "code",
      "source": [
        "df1 = pd.read_csv(\"/content/drive/MyDrive/polynomial/Polynomial_test.csv\")"
      ],
      "metadata": {
        "id": "FqA8ctHgTwLV"
      },
      "execution_count": 6,
      "outputs": []
    },
    {
      "cell_type": "markdown",
      "source": [
        "###Creating features and labels"
      ],
      "metadata": {
        "id": "rvWwy3NjCgHR"
      }
    },
    {
      "cell_type": "code",
      "source": [
        "df.drop(df.columns[0], axis=1, inplace= True)\n",
        "df1.drop(df1.columns[0], axis=1, inplace= True)\n",
        "y1 = df1[\"label\"]\n",
        "y = df[\"label\"]\n",
        "\n",
        "y_train = y.values.reshape(1,50000)\n",
        "y_test = y1.values.reshape(1,10000)\n",
        "df1.drop(df1.columns[3], axis=1, inplace= True)\n",
        "df.drop(df.columns[3], axis=1, inplace= True)\n",
        "df[\"XY\"] = df[\"X\"]*df[\"Y\"]\n",
        "df[\"YZ\"] = df[\"Y\"]*df[\"Z\"]\n",
        "df[\"ZX\"] = df[\"Z\"]*df[\"X\"]\n",
        "df1[\"XY\"] = df1[\"X\"]*df1[\"Y\"]\n",
        "df1[\"YZ\"] = df1[\"Y\"]*df1[\"Z\"]\n",
        "df1[\"ZX\"] = df1[\"Z\"]*df1[\"X\"]\n",
        "\n",
        "\n",
        "# X = (df - df.mean())/(df.max() - df.min())\n",
        "X = (df - df.mean())/(df.std())\n",
        "x_test = (df1 - df1.mean())/(df1.std())\n",
        "# x_test = (df1 - df1.mean())/(df1.max() - df1.min())\n",
        "print(x_test.columns)\n",
        "print(x_test.head())\n",
        "\n",
        "# print(X.shape)\n",
        "print(X.head())\n",
        "X.values.reshape(6, 50000)\n",
        "x_test.values.reshape(6, 10000)\n",
        "train_data = X\n"
      ],
      "metadata": {
        "colab": {
          "base_uri": "https://localhost:8080/"
        },
        "id": "PxfeBkRmU_ys",
        "outputId": "43d26832-de57-40e0-bcab-adadc9af9bc3"
      },
      "execution_count": 7,
      "outputs": [
        {
          "output_type": "stream",
          "name": "stdout",
          "text": [
            "Index(['X', 'Y', 'Z', 'XY', 'YZ', 'ZX'], dtype='object')\n",
            "          X         Y         Z        XY        YZ        ZX\n",
            "0  1.602895  0.057199  1.034578  0.136193  0.070325  1.663779\n",
            "1  0.474656  1.049657  1.109700  0.539850  1.179462  0.537206\n",
            "2 -0.475360  1.332401 -1.198596 -0.603881 -1.621266  0.550819\n",
            "3 -1.224451 -1.608887  0.147274  1.956122 -0.239396 -0.179585\n",
            "4  0.260161 -0.397724  1.042264 -0.084404 -0.404320  0.281710\n",
            "          X         Y         Z        XY        YZ        ZX\n",
            "0  0.105753 -1.697386 -1.010452 -0.179520  1.714817 -0.109627\n",
            "1 -0.242734 -0.643264 -1.515023  0.165110  0.979786  0.361003\n",
            "2 -0.714943 -0.310736 -0.321029  0.236189  0.098314  0.228871\n",
            "3 -1.519383 -0.325833  0.670617  0.514603 -0.226185 -1.014595\n",
            "4  0.924624  0.068216  1.156332  0.068631  0.068862  1.079949\n"
          ]
        }
      ]
    },
    {
      "cell_type": "code",
      "source": [
        "def x_transform(X, degrees):\n",
        "    \n",
        "    t = X.copy()\n",
        "    # Appending columns of higher degrees to X.\n",
        "    for i in degrees:\n",
        "        X = np.append(X, t ** i, axis=1)\n",
        "        \n",
        "        \n",
        "\n",
        "    return X"
      ],
      "metadata": {
        "id": "rCMrygFIU_wF"
      },
      "execution_count": 8,
      "outputs": []
    },
    {
      "cell_type": "code",
      "source": [
        "X1 = x_transform(train_data , degrees = [2] )\n",
        "X1 = X1.T"
      ],
      "metadata": {
        "id": "PhnOCAXrU_tg"
      },
      "execution_count": 9,
      "outputs": []
    },
    {
      "cell_type": "code",
      "source": [
        "X1.shape\n"
      ],
      "metadata": {
        "colab": {
          "base_uri": "https://localhost:8080/"
        },
        "id": "DlU31W9xaWSc",
        "outputId": "16fbd9cd-130e-441a-a667-f12322a207d1"
      },
      "execution_count": 10,
      "outputs": [
        {
          "output_type": "execute_result",
          "data": {
            "text/plain": [
              "(12, 50000)"
            ]
          },
          "metadata": {},
          "execution_count": 10
        }
      ]
    },
    {
      "cell_type": "markdown",
      "source": [
        "###Activation function"
      ],
      "metadata": {
        "id": "3WEaHI_BCoK5"
      }
    },
    {
      "cell_type": "code",
      "source": [
        "from sklearn.metrics import mean_squared_error\n",
        "\n",
        "def identity(z):\n",
        "    \n",
        "    return z\n",
        "\n",
        "\n",
        "\n",
        "def derivative_identity(x):\n",
        "    return np.ones(x.shape)"
      ],
      "metadata": {
        "id": "J7xULwY8U_q-"
      },
      "execution_count": 11,
      "outputs": []
    },
    {
      "cell_type": "markdown",
      "source": [
        "####Initializing weights and biases"
      ],
      "metadata": {
        "id": "Sgp4aBqYCq7R"
      }
    },
    {
      "cell_type": "code",
      "source": [
        "def initialize_parameters(n_x, n_h, n_y):\n",
        "    w1 = np.random.randn(n_h, n_x)\n",
        "    b1 = np.zeros((n_h, 1))\n",
        "    \n",
        "    w2 = np.random.randn(n_y, n_h)\n",
        "    b2 = np.zeros((n_y, 1))\n",
        "    \n",
        "    parameters = {\n",
        "        \"w1\" : w1,\n",
        "        \"b1\" : b1,\n",
        "        \"w2\" : w2,\n",
        "        \"b2\" : b2\n",
        "    }\n",
        "    \n",
        "    return parameters"
      ],
      "metadata": {
        "id": "-scUgC8hU_of"
      },
      "execution_count": 12,
      "outputs": []
    },
    {
      "cell_type": "markdown",
      "source": [
        "### NEural networks class"
      ],
      "metadata": {
        "id": "Rs40N2BlCyTd"
      }
    },
    {
      "cell_type": "code",
      "source": [
        "def forward_propagation(x, parameters):\n",
        "    \n",
        "    w1 = parameters['w1']\n",
        "    b1 = parameters['b1']\n",
        "    w2 = parameters['w2']\n",
        "    b2 = parameters['b2']\n",
        "    \n",
        "    z1 = np.dot(w1, x) + b1\n",
        "    a1 = identity(z1)\n",
        "    \n",
        "    z2 = np.dot(w2, a1) + b2\n",
        "    a2 = identity(z2)\n",
        "    \n",
        "    forward_cache = {\n",
        "        \"z1\" : z1,\n",
        "        \"a1\" : a1,\n",
        "        \"z2\" : z2,\n",
        "        \"a2\" : a2\n",
        "    }\n",
        "    \n",
        "    return forward_cache\n"
      ],
      "metadata": {
        "id": "RW6xDn_DU2vX"
      },
      "execution_count": 13,
      "outputs": []
    },
    {
      "cell_type": "code",
      "source": [
        "def cost_function(a2, y):\n",
        "    m = y.shape[1]\n",
        "    \n",
        "    cost = (1/(2*m))*np.sum( np.square(y-a2))\n",
        "    \n",
        "    \n",
        "    return cost"
      ],
      "metadata": {
        "id": "m_z-1itWU2yR"
      },
      "execution_count": 14,
      "outputs": []
    },
    {
      "cell_type": "code",
      "source": [
        "def backward_prop(x, y, parameters, forward_cache):\n",
        "    \n",
        "    w1 = parameters['w1']\n",
        "    b1 = parameters['b1']\n",
        "    w2 = parameters['w2']\n",
        "    b2 = parameters['b2']\n",
        "    \n",
        "    a1 = forward_cache['a1']\n",
        "    a2 = forward_cache['a2']\n",
        "    \n",
        "    m = x.shape[1]\n",
        "    \n",
        "    dz2 = (a2 - y)\n",
        "    dw2 = (1/(m))*np.dot(dz2, a1.T)\n",
        "    db2 = (1/(m))*np.sum(dz2, axis = 1, keepdims = True)\n",
        "    \n",
        "    dz1 = (1/m)*np.dot(w2.T, dz2)*derivative_identity(a1)\n",
        "    dw1 = (1/m)*np.dot(dz1, x.T)\n",
        "    db1 = (1/m)*np.sum(dz1, axis = 1, keepdims = True)\n",
        "    \n",
        "    gradients = {\n",
        "        \"dw1\" : dw1,\n",
        "        \"db1\" : db1,\n",
        "        \"dw2\" : dw2,\n",
        "        \"db2\" : db2\n",
        "    }\n",
        "    \n",
        "    return gradients\n"
      ],
      "metadata": {
        "id": "UxWR_GJuU21F"
      },
      "execution_count": 15,
      "outputs": []
    },
    {
      "cell_type": "code",
      "source": [
        "def update_parameters(parameters, gradients, learning_rate):\n",
        "    \n",
        "    w1 = parameters['w1']\n",
        "    b1 = parameters['b1']\n",
        "    w2 = parameters['w2']\n",
        "    b2 = parameters['b2']\n",
        "    \n",
        "    dw1 = gradients['dw1']\n",
        "    db1 = gradients['db1']\n",
        "    dw2 = gradients['dw2']\n",
        "    db2 = gradients['db2']\n",
        "    \n",
        "    w1 = w1 - learning_rate*dw1\n",
        "    b1 = b1 - learning_rate*db1\n",
        "    w2 = w2 - learning_rate*dw2\n",
        "    b2 = b2 - learning_rate*db2\n",
        "    \n",
        "    parameters = {\n",
        "        \"w1\" : w1,\n",
        "        \"b1\" : b1,\n",
        "        \"w2\" : w2,\n",
        "        \"b2\" : b2\n",
        "    }\n",
        "    return parameters"
      ],
      "metadata": {
        "id": "4VP7lW8DU23q"
      },
      "execution_count": 16,
      "outputs": []
    },
    {
      "cell_type": "code",
      "source": [
        "def model(x, y, n_h, learning_rate, iterations):\n",
        "    \n",
        "    n_x = x.shape[0]\n",
        "    n_y = y.shape[0]\n",
        "    \n",
        "    cost_list = []\n",
        "    \n",
        "    parameters = initialize_parameters(n_x, n_h, n_y)\n",
        "    \n",
        "    for i in range(iterations):\n",
        "        \n",
        "        forward_cache = forward_propagation(x, parameters)\n",
        "        \n",
        "        cost = cost_function(forward_cache['a2'], y)\n",
        "        \n",
        "        gradients = backward_prop(x, y, parameters, forward_cache)\n",
        "        \n",
        "        parameters = update_parameters(parameters, gradients, learning_rate)\n",
        "        \n",
        "        cost_list.append(cost)\n",
        "        \n",
        "        if(i%(iterations/10) == 0):\n",
        "            print(\"Cost after\", i, \"iterations is :\", cost)\n",
        "        \n",
        "    return parameters, cost_list\n"
      ],
      "metadata": {
        "id": "qRnwSoLYU26S"
      },
      "execution_count": 17,
      "outputs": []
    },
    {
      "cell_type": "code",
      "source": [
        "n_h = 10                                                     #set layer sizes, do not change the size of the first and last layer \n",
        "num_iters = 3000                                                             #set number of iterations over the training set(also known as epochs in batch gradient descent context)\n",
        "learning_rate = 0.008\n",
        "#set learning rate for gradient descent"
      ],
      "metadata": {
        "id": "XBKz7QZTU29K"
      },
      "execution_count": 18,
      "outputs": []
    },
    {
      "cell_type": "code",
      "source": [
        "Parameters, Cost_list = model(X1, y_train, n_h = n_h, learning_rate = learning_rate, iterations = num_iters)\n"
      ],
      "metadata": {
        "colab": {
          "base_uri": "https://localhost:8080/"
        },
        "id": "3dSLPxV0U2_3",
        "outputId": "68f88429-9322-445e-9dd7-beb35cd17db0"
      },
      "execution_count": 19,
      "outputs": [
        {
          "output_type": "stream",
          "name": "stdout",
          "text": [
            "Cost after 0 iterations is : 729221.7916209891\n",
            "Cost after 300 iterations is : 1277.3935787761395\n",
            "Cost after 600 iterations is : 451.21030856020803\n",
            "Cost after 900 iterations is : 190.89576140731606\n",
            "Cost after 1200 iterations is : 106.26350126852644\n",
            "Cost after 1500 iterations is : 78.7064489961487\n",
            "Cost after 1800 iterations is : 69.74005664046898\n",
            "Cost after 2100 iterations is : 66.82526467876708\n",
            "Cost after 2400 iterations is : 65.87837065921448\n",
            "Cost after 2700 iterations is : 65.57090015654369\n"
          ]
        }
      ]
    },
    {
      "cell_type": "markdown",
      "source": [
        "###Plotting cost function"
      ],
      "metadata": {
        "id": "Ody7rUa0DKEo"
      }
    },
    {
      "cell_type": "code",
      "source": [
        "plt.plot(Cost_list)\n",
        "plt.xlabel(\"Number of iterations\")\n",
        "plt.ylabel(\"Cost function\")\n",
        "plt.title(\"Learning rate : 0.008\")\n",
        "plt.show()"
      ],
      "metadata": {
        "colab": {
          "base_uri": "https://localhost:8080/",
          "height": 295
        },
        "id": "y8GUqwuqU3Cu",
        "outputId": "2e166fdb-688b-4d15-844c-5ebd75734159"
      },
      "execution_count": 26,
      "outputs": [
        {
          "output_type": "display_data",
          "data": {
            "text/plain": [
              "<Figure size 432x288 with 1 Axes>"
            ],
            "image/png": "[encoded data removed]"
          },
          "metadata": {
            "needs_background": "light"
          }
        }
      ]
    },
    {
      "cell_type": "code",
      "source": [
        "X_test = x_transform(x_test , degrees = [2] )\n",
        "X_test = X_test.T"
      ],
      "metadata": {
        "id": "nK-HWPJ-TwS3"
      },
      "execution_count": 21,
      "outputs": []
    },
    {
      "cell_type": "markdown",
      "source": [
        "### Calculating accuracy for test set"
      ],
      "metadata": {
        "id": "mM_h7RcHDPYk"
      }
    },
    {
      "cell_type": "code",
      "source": [
        "def predict(x_test, parameters):\n",
        "    forward_cache = forward_propagation(x_test, parameters)\n",
        "    return forward_cache[\"a2\"]\n",
        "y_pred = predict(X_test, Parameters)\n"
      ],
      "metadata": {
        "id": "ZudIaFc6gZe-"
      },
      "execution_count": 22,
      "outputs": []
    },
    {
      "cell_type": "code",
      "source": [
        "y_pred.shape"
      ],
      "metadata": {
        "colab": {
          "base_uri": "https://localhost:8080/"
        },
        "id": "3ecqGkDChfBY",
        "outputId": "ac23f69a-febe-47ba-dfee-1b02dfb72b13"
      },
      "execution_count": 23,
      "outputs": [
        {
          "output_type": "execute_result",
          "data": {
            "text/plain": [
              "(1, 10000)"
            ]
          },
          "metadata": {},
          "execution_count": 23
        }
      ]
    },
    {
      "cell_type": "markdown",
      "source": [
        "### R 2 score"
      ],
      "metadata": {
        "id": "NKPtrmHUDWeL"
      }
    },
    {
      "cell_type": "code",
      "source": [
        "# r2 score\n",
        "def r2_score(y, y_hat):\n",
        "    q = np.sum((np.array(y_hat)-np.array(y))**2)\n",
        "    e =  np.sum((np.array(y)-np.mean(np.array(y)))**2)          \n",
        "    return 1-(q/e)\n",
        "r2_scr = r2_score(y_test.reshape(10000,1), y_pred.T)\n",
        "print(r2_scr)"
      ],
      "metadata": {
        "colab": {
          "base_uri": "https://localhost:8080/"
        },
        "id": "5i3ioz8ggZhq",
        "outputId": "472e9f49-693f-4454-c025-75da1e09ddad"
      },
      "execution_count": 24,
      "outputs": [
        {
          "output_type": "stream",
          "name": "stdout",
          "text": [
            "0.9999005768863168\n"
          ]
        }
      ]
    },
    {
      "cell_type": "markdown",
      "source": [
        "### Root mean square error of test set"
      ],
      "metadata": {
        "id": "TQZ5maE8DZU4"
      }
    },
    {
      "cell_type": "code",
      "source": [
        "# root mean square error\n",
        "targets = y_test\n",
        "predictions = y_pred\n",
        "def rmse(predictions, targets):\n",
        "    return np.sqrt((np.square(predictions - targets)).mean())\n",
        "rms_error = rmse(predictions, targets)\n",
        "print(rms_error)"
      ],
      "metadata": {
        "colab": {
          "base_uri": "https://localhost:8080/"
        },
        "id": "GTOzKCgFgZlH",
        "outputId": "027c172e-b229-4f0d-ae94-02080ee488b7"
      },
      "execution_count": 25,
      "outputs": [
        {
          "output_type": "stream",
          "name": "stdout",
          "text": [
            "12.02213534766623\n"
          ]
        }
      ]
    },
    {
      "cell_type": "code",
      "source": [
        ""
      ],
      "metadata": {
        "id": "FmHK-fBRTwZ6"
      },
      "execution_count": null,
      "outputs": []
    }
  ]
}
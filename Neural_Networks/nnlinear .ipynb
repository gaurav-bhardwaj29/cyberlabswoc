{
 "cells": [
  {
   "cell_type": "markdown",
   "id": "fd1d8908",
   "metadata": {
    "papermill": {
     "duration": 0.029744,
     "end_time": "2022-04-16T20:04:39.617114",
     "exception": false,
     "start_time": "2022-04-16T20:04:39.587370",
     "status": "completed"
    },
    "tags": []
   },
   "source": [
    "### Importing necessary libraries"
   ]
  },
  {
   "cell_type": "code",
   "execution_count": 1,
   "id": "fbfdc4d1",
   "metadata": {
    "execution": {
     "iopub.execute_input": "2022-04-16T20:04:39.681052Z",
     "iopub.status.busy": "2022-04-16T20:04:39.680336Z",
     "iopub.status.idle": "2022-04-16T20:04:39.684149Z",
     "shell.execute_reply": "2022-04-16T20:04:39.684562Z",
     "shell.execute_reply.started": "2022-04-16T20:02:11.734882Z"
    },
    "papermill": {
     "duration": 0.039066,
     "end_time": "2022-04-16T20:04:39.684836",
     "exception": false,
     "start_time": "2022-04-16T20:04:39.645770",
     "status": "completed"
    },
    "tags": []
   },
   "outputs": [],
   "source": [
    "import pandas as pd\n",
    "import matplotlib.pyplot as plt\n",
    "import numpy as np"
   ]
  },
  {
   "cell_type": "markdown",
   "id": "febcebbd",
   "metadata": {
    "papermill": {
     "duration": 0.026162,
     "end_time": "2022-04-16T20:04:39.737534",
     "exception": false,
     "start_time": "2022-04-16T20:04:39.711372",
     "status": "completed"
    },
    "tags": []
   },
   "source": [
    "### Loading the datasets"
   ]
  },
  {
   "cell_type": "code",
   "execution_count": 2,
   "id": "3561dccd",
   "metadata": {
    "execution": {
     "iopub.execute_input": "2022-04-16T20:04:39.793732Z",
     "iopub.status.busy": "2022-04-16T20:04:39.792997Z",
     "iopub.status.idle": "2022-04-16T20:04:40.524212Z",
     "shell.execute_reply": "2022-04-16T20:04:40.524632Z",
     "shell.execute_reply.started": "2022-04-16T20:02:11.784649Z"
    },
    "papermill": {
     "duration": 0.760624,
     "end_time": "2022-04-16T20:04:40.524827",
     "exception": false,
     "start_time": "2022-04-16T20:04:39.764203",
     "status": "completed"
    },
    "tags": []
   },
   "outputs": [],
   "source": [
    "train_df = pd.read_csv(\"../input/linear-reg-woc/Linear_train.csv\")"
   ]
  },
  {
   "cell_type": "code",
   "execution_count": 3,
   "id": "ffd012dd",
   "metadata": {
    "execution": {
     "iopub.execute_input": "2022-04-16T20:04:40.583401Z",
     "iopub.status.busy": "2022-04-16T20:04:40.582902Z",
     "iopub.status.idle": "2022-04-16T20:04:40.731726Z",
     "shell.execute_reply": "2022-04-16T20:04:40.730988Z",
     "shell.execute_reply.started": "2022-04-16T20:02:12.421195Z"
    },
    "papermill": {
     "duration": 0.180137,
     "end_time": "2022-04-16T20:04:40.731874",
     "exception": false,
     "start_time": "2022-04-16T20:04:40.551737",
     "status": "completed"
    },
    "tags": []
   },
   "outputs": [],
   "source": [
    "test_df = pd.read_csv(\"../input/linear-reg-woc/Linear_test.csv\")"
   ]
  },
  {
   "cell_type": "markdown",
   "id": "0a9593eb",
   "metadata": {
    "papermill": {
     "duration": 0.040878,
     "end_time": "2022-04-16T20:04:40.813175",
     "exception": false,
     "start_time": "2022-04-16T20:04:40.772297",
     "status": "completed"
    },
    "tags": []
   },
   "source": [
    "### Creating features and Labels"
   ]
  },
  {
   "cell_type": "code",
   "execution_count": 4,
   "id": "c8fc78e1",
   "metadata": {
    "execution": {
     "iopub.execute_input": "2022-04-16T20:04:40.903172Z",
     "iopub.status.busy": "2022-04-16T20:04:40.902597Z",
     "iopub.status.idle": "2022-04-16T20:04:40.922603Z",
     "shell.execute_reply": "2022-04-16T20:04:40.922993Z",
     "shell.execute_reply.started": "2022-04-16T20:02:24.448671Z"
    },
    "papermill": {
     "duration": 0.069631,
     "end_time": "2022-04-16T20:04:40.923149",
     "exception": false,
     "start_time": "2022-04-16T20:04:40.853518",
     "status": "completed"
    },
    "tags": []
   },
   "outputs": [
    {
     "name": "stdout",
     "output_type": "stream",
     "text": [
      "(50000,)\n"
     ]
    }
   ],
   "source": [
    "y = train_df[\"label\"]\n",
    "y_tests = test_df[\"label\"]\n",
    "print(y.shape)\n",
    "train_df.drop(train_df.columns[[0, 21]], axis=1 , inplace=True)\n",
    "test_df.drop(test_df.columns[[0, 21]], axis=1 , inplace=True)"
   ]
  },
  {
   "cell_type": "markdown",
   "id": "4b00228b",
   "metadata": {
    "papermill": {
     "duration": 0.027664,
     "end_time": "2022-04-16T20:04:40.980527",
     "exception": false,
     "start_time": "2022-04-16T20:04:40.952863",
     "status": "completed"
    },
    "tags": []
   },
   "source": [
    "### Data preprocessing"
   ]
  },
  {
   "cell_type": "code",
   "execution_count": 5,
   "id": "5d6e9166",
   "metadata": {
    "execution": {
     "iopub.execute_input": "2022-04-16T20:04:41.042219Z",
     "iopub.status.busy": "2022-04-16T20:04:41.041664Z",
     "iopub.status.idle": "2022-04-16T20:04:41.061831Z",
     "shell.execute_reply": "2022-04-16T20:04:41.062460Z",
     "shell.execute_reply.started": "2022-04-16T20:02:27.236492Z"
    },
    "papermill": {
     "duration": 0.054805,
     "end_time": "2022-04-16T20:04:41.062691",
     "exception": false,
     "start_time": "2022-04-16T20:04:41.007886",
     "status": "completed"
    },
    "tags": []
   },
   "outputs": [
    {
     "name": "stdout",
     "output_type": "stream",
     "text": [
      "(20, 50000)\n",
      "(1, 50000)\n",
      "(1, 10000)\n"
     ]
    }
   ],
   "source": [
    "x_train_scaled = (train_df - train_df.mean())/(train_df.std())\n",
    "# x_test_scaled = (df_test - df_test.mean())/(df_test.max() - df_test.min())\n",
    "x_test_scaled = (test_df - test_df.mean())/(test_df.std())\n",
    "x_train = x_train_scaled.values\n",
    "x_train = x_train.T\n",
    "print(x_train.shape)\n",
    "\n",
    "y_train = np.array([y])\n",
    "y_train = y_train.reshape(1,50000)\n",
    "print(y_train.shape)\n",
    "x_test = x_test_scaled.values\n",
    "x_test = x_test.T\n",
    "y_test = np.array([y_tests])\n",
    "y_test = y_test.reshape(1,10000)\n",
    "print(y_test.shape)"
   ]
  },
  {
   "cell_type": "markdown",
   "id": "68f89e84",
   "metadata": {
    "papermill": {
     "duration": 0.040802,
     "end_time": "2022-04-16T20:04:41.145905",
     "exception": false,
     "start_time": "2022-04-16T20:04:41.105103",
     "status": "completed"
    },
    "tags": []
   },
   "source": [
    "#### Activation function "
   ]
  },
  {
   "cell_type": "code",
   "execution_count": 6,
   "id": "ebb2669d",
   "metadata": {
    "execution": {
     "iopub.execute_input": "2022-04-16T20:04:41.232869Z",
     "iopub.status.busy": "2022-04-16T20:04:41.232171Z",
     "iopub.status.idle": "2022-04-16T20:04:42.718813Z",
     "shell.execute_reply": "2022-04-16T20:04:42.718155Z",
     "shell.execute_reply.started": "2022-04-16T20:02:34.403171Z"
    },
    "papermill": {
     "duration": 1.531968,
     "end_time": "2022-04-16T20:04:42.718935",
     "exception": false,
     "start_time": "2022-04-16T20:04:41.186967",
     "status": "completed"
    },
    "tags": []
   },
   "outputs": [],
   "source": [
    "from sklearn.metrics import mean_squared_error\n",
    "\n",
    "def identity(z):\n",
    "    \n",
    "    return z\n",
    "\n",
    "\n",
    "def derivative_identity(x):\n",
    "    return np.ones(x.shape)"
   ]
  },
  {
   "cell_type": "markdown",
   "id": "8f611e48",
   "metadata": {
    "papermill": {
     "duration": 0.027494,
     "end_time": "2022-04-16T20:04:42.773914",
     "exception": false,
     "start_time": "2022-04-16T20:04:42.746420",
     "status": "completed"
    },
    "tags": []
   },
   "source": [
    "### Neural networks class"
   ]
  },
  {
   "cell_type": "code",
   "execution_count": 7,
   "id": "1b5a633a",
   "metadata": {
    "execution": {
     "iopub.execute_input": "2022-04-16T20:04:42.840340Z",
     "iopub.status.busy": "2022-04-16T20:04:42.839568Z",
     "iopub.status.idle": "2022-04-16T20:04:42.858395Z",
     "shell.execute_reply": "2022-04-16T20:04:42.858807Z",
     "shell.execute_reply.started": "2022-04-16T20:02:36.981875Z"
    },
    "papermill": {
     "duration": 0.057605,
     "end_time": "2022-04-16T20:04:42.858962",
     "exception": false,
     "start_time": "2022-04-16T20:04:42.801357",
     "status": "completed"
    },
    "tags": []
   },
   "outputs": [],
   "source": [
    "def initialize_parameters(n_x, n_h, n_y):\n",
    "    w1 = np.random.randn(n_h, n_x)\n",
    "    b1 = np.zeros((n_h, 1))\n",
    "    \n",
    "    w2 = np.random.randn(n_y, n_h)\n",
    "    b2 = np.zeros((n_y, 1))\n",
    "    \n",
    "    parameters = {\n",
    "        \"w1\" : w1,\n",
    "        \"b1\" : b1,\n",
    "        \"w2\" : w2,\n",
    "        \"b2\" : b2\n",
    "    }\n",
    "    \n",
    "    return parameters\n",
    "def forward_propagation(x, parameters):\n",
    "    \n",
    "    w1 = parameters['w1']\n",
    "    b1 = parameters['b1']\n",
    "    w2 = parameters['w2']\n",
    "    b2 = parameters['b2']\n",
    "    \n",
    "    z1 = np.dot(w1, x) + b1\n",
    "    a1 = identity(z1)\n",
    "    \n",
    "    z2 = np.dot(w2, a1) + b2\n",
    "    a2 = identity(z2)\n",
    "    \n",
    "    forward_cache = {\n",
    "        \"z1\" : z1,\n",
    "        \"a1\" : a1,\n",
    "        \"z2\" : z2,\n",
    "        \"a2\" : a2\n",
    "    }\n",
    "    \n",
    "    return forward_cache\n",
    "\n",
    "\n",
    "def cost_function(a2, y):\n",
    "    m = y.shape[1]\n",
    "    \n",
    "    cost = (1/(2*m))*np.sum( np.square(y-a2))\n",
    "    \n",
    "    \n",
    "    return cost\n",
    "\n",
    "def backward_prop(x, y, parameters, forward_cache):\n",
    "    \n",
    "    w1 = parameters['w1']\n",
    "    b1 = parameters['b1']\n",
    "    w2 = parameters['w2']\n",
    "    b2 = parameters['b2']\n",
    "    \n",
    "    a1 = forward_cache['a1']\n",
    "    a2 = forward_cache['a2']\n",
    "    \n",
    "    m = x.shape[1]\n",
    "    \n",
    "    dz2 = (a2 - y)\n",
    "    dw2 = (1/(m))*np.dot(dz2, a1.T)\n",
    "    db2 = (1/(m))*np.sum(dz2, axis = 1, keepdims = True)\n",
    "    \n",
    "    dz1 = (1/m)*np.dot(w2.T, dz2)*derivative_identity(a1)\n",
    "    dw1 = (1/m)*np.dot(dz1, x.T)\n",
    "    db1 = (1/m)*np.sum(dz1, axis = 1, keepdims = True)\n",
    "    \n",
    "    gradients = {\n",
    "        \"dw1\" : dw1,\n",
    "        \"db1\" : db1,\n",
    "        \"dw2\" : dw2,\n",
    "        \"db2\" : db2\n",
    "    }\n",
    "    \n",
    "    return gradients\n",
    "def update_parameters(parameters, gradients, learning_rate):\n",
    "    \n",
    "    w1 = parameters['w1']\n",
    "    b1 = parameters['b1']\n",
    "    w2 = parameters['w2']\n",
    "    b2 = parameters['b2']\n",
    "    \n",
    "    dw1 = gradients['dw1']\n",
    "    db1 = gradients['db1']\n",
    "    dw2 = gradients['dw2']\n",
    "    db2 = gradients['db2']\n",
    "    \n",
    "    w1 = w1 - learning_rate*dw1\n",
    "    b1 = b1 - learning_rate*db1\n",
    "    w2 = w2 - learning_rate*dw2\n",
    "    b2 = b2 - learning_rate*db2\n",
    "    \n",
    "    parameters = {\n",
    "        \"w1\" : w1,\n",
    "        \"b1\" : b1,\n",
    "        \"w2\" : w2,\n",
    "        \"b2\" : b2\n",
    "    }\n",
    "    \n",
    "    return parameters\n",
    "\n",
    "def model(x, y, n_h, learning_rate, iterations):\n",
    "    \n",
    "    n_x = x.shape[0]\n",
    "    n_y = y.shape[0]\n",
    "    \n",
    "    cost_list = []\n",
    "    \n",
    "    parameters = initialize_parameters(n_x, n_h, n_y)\n",
    "    \n",
    "    for i in range(iterations):\n",
    "        \n",
    "        forward_cache = forward_propagation(x, parameters)\n",
    "        \n",
    "        cost = cost_function(forward_cache['a2'], y)\n",
    "        \n",
    "        gradients = backward_prop(x, y, parameters, forward_cache)\n",
    "        \n",
    "        parameters = update_parameters(parameters, gradients, learning_rate)\n",
    "        \n",
    "        cost_list.append(cost)\n",
    "        \n",
    "        if(i%(iterations/10) == 0):\n",
    "            print(\"Cost after\", i, \"iterations is :\", cost)\n",
    "        \n",
    "    return parameters, cost_list\n",
    "\n",
    "\n",
    "\n",
    "\n",
    "\n",
    "\n",
    "\n"
   ]
  },
  {
   "cell_type": "code",
   "execution_count": 8,
   "id": "d73be91b",
   "metadata": {
    "execution": {
     "iopub.execute_input": "2022-04-16T20:04:42.918757Z",
     "iopub.status.busy": "2022-04-16T20:04:42.918022Z",
     "iopub.status.idle": "2022-04-16T20:04:42.922746Z",
     "shell.execute_reply": "2022-04-16T20:04:42.923147Z",
     "shell.execute_reply.started": "2022-04-16T20:02:44.226718Z"
    },
    "papermill": {
     "duration": 0.036591,
     "end_time": "2022-04-16T20:04:42.923305",
     "exception": false,
     "start_time": "2022-04-16T20:04:42.886714",
     "status": "completed"
    },
    "tags": []
   },
   "outputs": [],
   "source": [
    "n_h = 17                                                      #set layer sizes, do not change the size of the first and last layer \n",
    "num_iters = 1000                                                             #set number of iterations over the training set(also known as epochs in batch gradient descent context)\n",
    "learning_rate = 0.001\n",
    "#set learning rate for gradient descent\n"
   ]
  },
  {
   "cell_type": "code",
   "execution_count": 9,
   "id": "5f6ccf4f",
   "metadata": {
    "execution": {
     "iopub.execute_input": "2022-04-16T20:04:42.984186Z",
     "iopub.status.busy": "2022-04-16T20:04:42.983442Z",
     "iopub.status.idle": "2022-04-16T20:04:54.766604Z",
     "shell.execute_reply": "2022-04-16T20:04:54.767301Z",
     "shell.execute_reply.started": "2022-04-16T20:02:46.432593Z"
    },
    "papermill": {
     "duration": 11.8152,
     "end_time": "2022-04-16T20:04:54.767472",
     "exception": false,
     "start_time": "2022-04-16T20:04:42.952272",
     "status": "completed"
    },
    "tags": []
   },
   "outputs": [
    {
     "name": "stdout",
     "output_type": "stream",
     "text": [
      "Cost after 0 iterations is : 13399442.838958502\n",
      "Cost after 100 iterations is : 1314087.6173856817\n",
      "Cost after 200 iterations is : 32960.805461593685\n",
      "Cost after 300 iterations is : 2680.6041787210543\n",
      "Cost after 400 iterations is : 1927.5438308756875\n",
      "Cost after 500 iterations is : 1907.6590711934803\n",
      "Cost after 600 iterations is : 1907.114477147982\n",
      "Cost after 700 iterations is : 1907.0991310807676\n",
      "Cost after 800 iterations is : 1907.098687336046\n",
      "Cost after 900 iterations is : 1907.098674189982\n"
     ]
    }
   ],
   "source": [
    "Parameters, Cost_list = model(x_train, y_train, n_h = n_h, learning_rate = learning_rate, iterations = num_iters)"
   ]
  },
  {
   "cell_type": "markdown",
   "id": "a3ce0423",
   "metadata": {
    "papermill": {
     "duration": 0.039662,
     "end_time": "2022-04-16T20:04:54.861796",
     "exception": false,
     "start_time": "2022-04-16T20:04:54.822134",
     "status": "completed"
    },
    "tags": []
   },
   "source": [
    "### Plotting cost function"
   ]
  },
  {
   "cell_type": "code",
   "execution_count": 10,
   "id": "e6186d5c",
   "metadata": {
    "execution": {
     "iopub.execute_input": "2022-04-16T20:04:54.934264Z",
     "iopub.status.busy": "2022-04-16T20:04:54.933679Z",
     "iopub.status.idle": "2022-04-16T20:04:55.115696Z",
     "shell.execute_reply": "2022-04-16T20:04:55.115038Z",
     "shell.execute_reply.started": "2022-04-16T20:03:44.913403Z"
    },
    "papermill": {
     "duration": 0.218904,
     "end_time": "2022-04-16T20:04:55.115858",
     "exception": false,
     "start_time": "2022-04-16T20:04:54.896954",
     "status": "completed"
    },
    "tags": []
   },
   "outputs": [
    {
     "data": {
      "image/png": "[encoded data removed]",
      "text/plain": [
       "<Figure size 432x288 with 1 Axes>"
      ]
     },
     "metadata": {
      "needs_background": "light"
     },
     "output_type": "display_data"
    }
   ],
   "source": [
    "plt.plot(Cost_list)\n",
    "plt.xlabel(\"Number of iterations\")\n",
    "plt.ylabel(\"Cost function\")\n",
    "plt.show()"
   ]
  },
  {
   "cell_type": "code",
   "execution_count": 11,
   "id": "ea5454ad",
   "metadata": {
    "execution": {
     "iopub.execute_input": "2022-04-16T20:04:55.216045Z",
     "iopub.status.busy": "2022-04-16T20:04:55.215352Z",
     "iopub.status.idle": "2022-04-16T20:04:55.219300Z",
     "shell.execute_reply": "2022-04-16T20:04:55.219814Z",
     "shell.execute_reply.started": "2022-04-16T20:03:58.286352Z"
    },
    "papermill": {
     "duration": 0.056139,
     "end_time": "2022-04-16T20:04:55.219997",
     "exception": false,
     "start_time": "2022-04-16T20:04:55.163858",
     "status": "completed"
    },
    "tags": []
   },
   "outputs": [],
   "source": [
    "def predict(x_test, parameters):\n",
    "    forward_cache = forward_propagation(x_test, parameters)\n",
    "    return forward_cache[\"a2\"]"
   ]
  },
  {
   "cell_type": "markdown",
   "id": "10a9beb4",
   "metadata": {
    "papermill": {
     "duration": 0.048362,
     "end_time": "2022-04-16T20:04:55.316082",
     "exception": false,
     "start_time": "2022-04-16T20:04:55.267720",
     "status": "completed"
    },
    "tags": []
   },
   "source": [
    "### Calculating accuracy on test set"
   ]
  },
  {
   "cell_type": "code",
   "execution_count": 12,
   "id": "fdd0845f",
   "metadata": {
    "execution": {
     "iopub.execute_input": "2022-04-16T20:04:55.417116Z",
     "iopub.status.busy": "2022-04-16T20:04:55.416458Z",
     "iopub.status.idle": "2022-04-16T20:04:55.420492Z",
     "shell.execute_reply": "2022-04-16T20:04:55.421077Z",
     "shell.execute_reply.started": "2022-04-16T20:04:00.977870Z"
    },
    "papermill": {
     "duration": 0.057863,
     "end_time": "2022-04-16T20:04:55.421287",
     "exception": false,
     "start_time": "2022-04-16T20:04:55.363424",
     "status": "completed"
    },
    "tags": []
   },
   "outputs": [],
   "source": [
    "y_pred = predict(x_test, Parameters)"
   ]
  },
  {
   "cell_type": "code",
   "execution_count": 13,
   "id": "e2ff2015",
   "metadata": {
    "execution": {
     "iopub.execute_input": "2022-04-16T20:04:55.541072Z",
     "iopub.status.busy": "2022-04-16T20:04:55.540393Z",
     "iopub.status.idle": "2022-04-16T20:04:55.543514Z",
     "shell.execute_reply": "2022-04-16T20:04:55.544138Z",
     "shell.execute_reply.started": "2022-04-16T20:04:02.687389Z"
    },
    "papermill": {
     "duration": 0.065889,
     "end_time": "2022-04-16T20:04:55.544311",
     "exception": false,
     "start_time": "2022-04-16T20:04:55.478422",
     "status": "completed"
    },
    "tags": []
   },
   "outputs": [
    {
     "data": {
      "text/plain": [
       "(1, 10000)"
      ]
     },
     "execution_count": 13,
     "metadata": {},
     "output_type": "execute_result"
    }
   ],
   "source": [
    "y_pred.shape"
   ]
  },
  {
   "cell_type": "code",
   "execution_count": 14,
   "id": "b96de236",
   "metadata": {
    "execution": {
     "iopub.execute_input": "2022-04-16T20:04:55.641783Z",
     "iopub.status.busy": "2022-04-16T20:04:55.641129Z",
     "iopub.status.idle": "2022-04-16T20:04:55.644875Z",
     "shell.execute_reply": "2022-04-16T20:04:55.645479Z",
     "shell.execute_reply.started": "2022-04-16T20:04:04.184783Z"
    },
    "papermill": {
     "duration": 0.053993,
     "end_time": "2022-04-16T20:04:55.645651",
     "exception": false,
     "start_time": "2022-04-16T20:04:55.591658",
     "status": "completed"
    },
    "tags": []
   },
   "outputs": [
    {
     "data": {
      "text/plain": [
       "(1, 10000)"
      ]
     },
     "execution_count": 14,
     "metadata": {},
     "output_type": "execute_result"
    }
   ],
   "source": [
    "y_test.shape"
   ]
  },
  {
   "cell_type": "code",
   "execution_count": 15,
   "id": "ef37d425",
   "metadata": {
    "execution": {
     "iopub.execute_input": "2022-04-16T20:04:55.743754Z",
     "iopub.status.busy": "2022-04-16T20:04:55.743132Z",
     "iopub.status.idle": "2022-04-16T20:04:55.749957Z",
     "shell.execute_reply": "2022-04-16T20:04:55.750543Z",
     "shell.execute_reply.started": "2022-04-16T20:04:06.011149Z"
    },
    "papermill": {
     "duration": 0.057594,
     "end_time": "2022-04-16T20:04:55.750761",
     "exception": false,
     "start_time": "2022-04-16T20:04:55.693167",
     "status": "completed"
    },
    "tags": []
   },
   "outputs": [
    {
     "name": "stdout",
     "output_type": "stream",
     "text": [
      "Rmse error on test dataset =  74.71079225459114\n"
     ]
    }
   ],
   "source": [
    "def accuracy(y_test, y_pred):\n",
    "    return np.sqrt((np.square(y_test - y_pred)).mean())\n",
    "print(\"Rmse error on test dataset = \", accuracy(y_test, y_pred))"
   ]
  },
  {
   "cell_type": "code",
   "execution_count": null,
   "id": "2a7fbaec",
   "metadata": {
    "papermill": {
     "duration": 0.048061,
     "end_time": "2022-04-16T20:04:55.847371",
     "exception": false,
     "start_time": "2022-04-16T20:04:55.799310",
     "status": "completed"
    },
    "tags": []
   },
   "outputs": [],
   "source": []
  },
  {
   "cell_type": "code",
   "execution_count": null,
   "id": "08f2a64e",
   "metadata": {
    "papermill": {
     "duration": 0.049038,
     "end_time": "2022-04-16T20:04:55.945165",
     "exception": false,
     "start_time": "2022-04-16T20:04:55.896127",
     "status": "completed"
    },
    "tags": []
   },
   "outputs": [],
   "source": []
  },
  {
   "cell_type": "code",
   "execution_count": null,
   "id": "ae8ad4f0",
   "metadata": {
    "papermill": {
     "duration": 0.048716,
     "end_time": "2022-04-16T20:04:56.042858",
     "exception": false,
     "start_time": "2022-04-16T20:04:55.994142",
     "status": "completed"
    },
    "tags": []
   },
   "outputs": [],
   "source": []
  },
  {
   "cell_type": "code",
   "execution_count": null,
   "id": "496b3126",
   "metadata": {
    "papermill": {
     "duration": 0.048549,
     "end_time": "2022-04-16T20:04:56.142302",
     "exception": false,
     "start_time": "2022-04-16T20:04:56.093753",
     "status": "completed"
    },
    "tags": []
   },
   "outputs": [],
   "source": []
  },
  {
   "cell_type": "code",
   "execution_count": null,
   "id": "7369d540",
   "metadata": {
    "papermill": {
     "duration": 0.04753,
     "end_time": "2022-04-16T20:04:56.237826",
     "exception": false,
     "start_time": "2022-04-16T20:04:56.190296",
     "status": "completed"
    },
    "tags": []
   },
   "outputs": [],
   "source": []
  },
  {
   "cell_type": "code",
   "execution_count": null,
   "id": "815d3683",
   "metadata": {
    "papermill": {
     "duration": 0.048416,
     "end_time": "2022-04-16T20:04:56.334401",
     "exception": false,
     "start_time": "2022-04-16T20:04:56.285985",
     "status": "completed"
    },
    "tags": []
   },
   "outputs": [],
   "source": []
  },
  {
   "cell_type": "code",
   "execution_count": null,
   "id": "dcb898de",
   "metadata": {
    "papermill": {
     "duration": 0.047698,
     "end_time": "2022-04-16T20:04:56.430277",
     "exception": false,
     "start_time": "2022-04-16T20:04:56.382579",
     "status": "completed"
    },
    "tags": []
   },
   "outputs": [],
   "source": []
  },
  {
   "cell_type": "code",
   "execution_count": null,
   "id": "7a0d63af",
   "metadata": {
    "papermill": {
     "duration": 0.047651,
     "end_time": "2022-04-16T20:04:56.526036",
     "exception": false,
     "start_time": "2022-04-16T20:04:56.478385",
     "status": "completed"
    },
    "tags": []
   },
   "outputs": [],
   "source": []
  },
  {
   "cell_type": "code",
   "execution_count": null,
   "id": "ee954b7b",
   "metadata": {
    "papermill": {
     "duration": 0.047869,
     "end_time": "2022-04-16T20:04:56.622062",
     "exception": false,
     "start_time": "2022-04-16T20:04:56.574193",
     "status": "completed"
    },
    "tags": []
   },
   "outputs": [],
   "source": []
  },
  {
   "cell_type": "code",
   "execution_count": null,
   "id": "db714e37",
   "metadata": {
    "papermill": {
     "duration": 0.04775,
     "end_time": "2022-04-16T20:04:56.718249",
     "exception": false,
     "start_time": "2022-04-16T20:04:56.670499",
     "status": "completed"
    },
    "tags": []
   },
   "outputs": [],
   "source": []
  },
  {
   "cell_type": "code",
   "execution_count": null,
   "id": "c7ad6eb0",
   "metadata": {
    "papermill": {
     "duration": 0.047621,
     "end_time": "2022-04-16T20:04:56.814034",
     "exception": false,
     "start_time": "2022-04-16T20:04:56.766413",
     "status": "completed"
    },
    "tags": []
   },
   "outputs": [],
   "source": []
  },
  {
   "cell_type": "code",
   "execution_count": null,
   "id": "7d125c00",
   "metadata": {
    "papermill": {
     "duration": 0.047482,
     "end_time": "2022-04-16T20:04:56.912685",
     "exception": false,
     "start_time": "2022-04-16T20:04:56.865203",
     "status": "completed"
    },
    "tags": []
   },
   "outputs": [],
   "source": []
  },
  {
   "cell_type": "code",
   "execution_count": null,
   "id": "dd7a3b5b",
   "metadata": {
    "papermill": {
     "duration": 0.048862,
     "end_time": "2022-04-16T20:04:57.010001",
     "exception": false,
     "start_time": "2022-04-16T20:04:56.961139",
     "status": "completed"
    },
    "tags": []
   },
   "outputs": [],
   "source": []
  },
  {
   "cell_type": "code",
   "execution_count": null,
   "id": "346de90b",
   "metadata": {
    "papermill": {
     "duration": 0.055429,
     "end_time": "2022-04-16T20:04:57.114671",
     "exception": false,
     "start_time": "2022-04-16T20:04:57.059242",
     "status": "completed"
    },
    "tags": []
   },
   "outputs": [],
   "source": []
  },
  {
   "cell_type": "code",
   "execution_count": null,
   "id": "27f6a4c4",
   "metadata": {
    "papermill": {
     "duration": 0.053612,
     "end_time": "2022-04-16T20:04:57.224371",
     "exception": false,
     "start_time": "2022-04-16T20:04:57.170759",
     "status": "completed"
    },
    "tags": []
   },
   "outputs": [],
   "source": []
  },
  {
   "cell_type": "code",
   "execution_count": null,
   "id": "b3bfe917",
   "metadata": {
    "papermill": {
     "duration": 0.048397,
     "end_time": "2022-04-16T20:04:57.321825",
     "exception": false,
     "start_time": "2022-04-16T20:04:57.273428",
     "status": "completed"
    },
    "tags": []
   },
   "outputs": [],
   "source": []
  }
 ],
 "metadata": {
  "kernelspec": {
   "display_name": "Python 3",
   "language": "python",
   "name": "python3"
  },
  "language_info": {
   "codemirror_mode": {
    "name": "ipython",
    "version": 3
   },
   "file_extension": ".py",
   "mimetype": "text/x-python",
   "name": "python",
   "nbconvert_exporter": "python",
   "pygments_lexer": "ipython3",
   "version": "3.7.12"
  },
  "papermill": {
   "default_parameters": {},
   "duration": 31.430265,
   "end_time": "2022-04-16T20:04:58.283772",
   "environment_variables": {},
   "exception": null,
   "input_path": "__notebook__.ipynb",
   "output_path": "__notebook__.ipynb",
   "parameters": {},
   "start_time": "2022-04-16T20:04:26.853507",
   "version": "2.3.3"
  }
 },
 "nbformat": 4,
 "nbformat_minor": 5
}

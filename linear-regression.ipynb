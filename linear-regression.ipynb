{
 "cells": [
  {
   "cell_type": "markdown",
   "id": "6cdfb8bb",
   "metadata": {
    "papermill": {
     "duration": 0.022079,
     "end_time": "2022-04-12T05:55:39.948338",
     "exception": false,
     "start_time": "2022-04-12T05:55:39.926259",
     "status": "completed"
    },
    "tags": []
   },
   "source": [
    "### Import necessary Libraries"
   ]
  },
  {
   "cell_type": "code",
   "execution_count": 1,
   "id": "790ef1af",
   "metadata": {
    "execution": {
     "iopub.execute_input": "2022-04-12T05:55:39.995461Z",
     "iopub.status.busy": "2022-04-12T05:55:39.994334Z",
     "iopub.status.idle": "2022-04-12T05:55:40.002657Z",
     "shell.execute_reply": "2022-04-12T05:55:40.003162Z",
     "shell.execute_reply.started": "2022-03-29T13:54:45.70426Z"
    },
    "papermill": {
     "duration": 0.03378,
     "end_time": "2022-04-12T05:55:40.003437",
     "exception": false,
     "start_time": "2022-04-12T05:55:39.969657",
     "status": "completed"
    },
    "tags": []
   },
   "outputs": [],
   "source": [
    "import numpy as np\n",
    "import pandas as pd\n",
    "import matplotlib.pyplot as plt"
   ]
  },
  {
   "cell_type": "markdown",
   "id": "bc452289",
   "metadata": {
    "papermill": {
     "duration": 0.020554,
     "end_time": "2022-04-12T05:55:40.045010",
     "exception": false,
     "start_time": "2022-04-12T05:55:40.024456",
     "status": "completed"
    },
    "tags": []
   },
   "source": [
    "### Initializing theta and bias"
   ]
  },
  {
   "cell_type": "code",
   "execution_count": 2,
   "id": "b774cab8",
   "metadata": {
    "execution": {
     "iopub.execute_input": "2022-04-12T05:55:40.091936Z",
     "iopub.status.busy": "2022-04-12T05:55:40.091028Z",
     "iopub.status.idle": "2022-04-12T05:55:40.093377Z",
     "shell.execute_reply": "2022-04-12T05:55:40.093907Z",
     "shell.execute_reply.started": "2022-03-29T13:54:45.716057Z"
    },
    "papermill": {
     "duration": 0.028188,
     "end_time": "2022-04-12T05:55:40.094078",
     "exception": false,
     "start_time": "2022-04-12T05:55:40.065890",
     "status": "completed"
    },
    "tags": []
   },
   "outputs": [],
   "source": [
    "def initialize(lenw):\n",
    "    w = np.zeros((1, lenw))\n",
    "    b = 0\n",
    "    return w, b"
   ]
  },
  {
   "cell_type": "markdown",
   "id": "be229bdc",
   "metadata": {
    "papermill": {
     "duration": 0.02037,
     "end_time": "2022-04-12T05:55:40.135524",
     "exception": false,
     "start_time": "2022-04-12T05:55:40.115154",
     "status": "completed"
    },
    "tags": []
   },
   "source": [
    "### Hypothesis function"
   ]
  },
  {
   "cell_type": "code",
   "execution_count": 3,
   "id": "19693f70",
   "metadata": {
    "execution": {
     "iopub.execute_input": "2022-04-12T05:55:40.184328Z",
     "iopub.status.busy": "2022-04-12T05:55:40.183297Z",
     "iopub.status.idle": "2022-04-12T05:55:40.188532Z",
     "shell.execute_reply": "2022-04-12T05:55:40.189083Z",
     "shell.execute_reply.started": "2022-03-29T13:54:45.731464Z"
    },
    "papermill": {
     "duration": 0.032944,
     "end_time": "2022-04-12T05:55:40.189274",
     "exception": false,
     "start_time": "2022-04-12T05:55:40.156330",
     "status": "completed"
    },
    "tags": []
   },
   "outputs": [],
   "source": [
    "def hypothesis(X, w, b):\n",
    "    z = np.dot(w, X) + b\n",
    "    return z"
   ]
  },
  {
   "cell_type": "markdown",
   "id": "8fdc35f5",
   "metadata": {
    "papermill": {
     "duration": 0.023813,
     "end_time": "2022-04-12T05:55:40.241085",
     "exception": false,
     "start_time": "2022-04-12T05:55:40.217272",
     "status": "completed"
    },
    "tags": []
   },
   "source": [
    "### Cost function"
   ]
  },
  {
   "cell_type": "code",
   "execution_count": 4,
   "id": "521dcb92",
   "metadata": {
    "execution": {
     "iopub.execute_input": "2022-04-12T05:55:40.293053Z",
     "iopub.status.busy": "2022-04-12T05:55:40.290684Z",
     "iopub.status.idle": "2022-04-12T05:55:40.296036Z",
     "shell.execute_reply": "2022-04-12T05:55:40.295494Z",
     "shell.execute_reply.started": "2022-03-29T13:54:45.746255Z"
    },
    "papermill": {
     "duration": 0.030499,
     "end_time": "2022-04-12T05:55:40.296179",
     "exception": false,
     "start_time": "2022-04-12T05:55:40.265680",
     "status": "completed"
    },
    "tags": []
   },
   "outputs": [],
   "source": [
    "def cost_function(z, y):\n",
    "    m = y.shape[1]\n",
    "    J = (1/(2*m))*np.sum(np.square(z-y))\n",
    "    return J"
   ]
  },
  {
   "cell_type": "markdown",
   "id": "2637a489",
   "metadata": {
    "papermill": {
     "duration": 0.020681,
     "end_time": "2022-04-12T05:55:40.338061",
     "exception": false,
     "start_time": "2022-04-12T05:55:40.317380",
     "status": "completed"
    },
    "tags": []
   },
   "source": [
    "### Gradient Descent"
   ]
  },
  {
   "cell_type": "code",
   "execution_count": 5,
   "id": "bd690c2e",
   "metadata": {
    "execution": {
     "iopub.execute_input": "2022-04-12T05:55:40.385777Z",
     "iopub.status.busy": "2022-04-12T05:55:40.385095Z",
     "iopub.status.idle": "2022-04-12T05:55:40.387886Z",
     "shell.execute_reply": "2022-04-12T05:55:40.387357Z",
     "shell.execute_reply.started": "2022-03-29T13:54:45.761987Z"
    },
    "papermill": {
     "duration": 0.028941,
     "end_time": "2022-04-12T05:55:40.388033",
     "exception": false,
     "start_time": "2022-04-12T05:55:40.359092",
     "status": "completed"
    },
    "tags": []
   },
   "outputs": [],
   "source": [
    "def gradient_descent(X,y, z):\n",
    "    m = y.shape[1]\n",
    "    dz = (z-y)\n",
    "    dw = (1/m)*np.dot(dz, X.T)\n",
    "    db = (1/m)*np.sum(dz)\n",
    "    return dw, db"
   ]
  },
  {
   "cell_type": "code",
   "execution_count": 6,
   "id": "3e991047",
   "metadata": {
    "execution": {
     "iopub.execute_input": "2022-04-12T05:55:40.436874Z",
     "iopub.status.busy": "2022-04-12T05:55:40.436230Z",
     "iopub.status.idle": "2022-04-12T05:55:40.439112Z",
     "shell.execute_reply": "2022-04-12T05:55:40.438599Z",
     "shell.execute_reply.started": "2022-03-29T13:54:45.77499Z"
    },
    "papermill": {
     "duration": 0.028607,
     "end_time": "2022-04-12T05:55:40.439266",
     "exception": false,
     "start_time": "2022-04-12T05:55:40.410659",
     "status": "completed"
    },
    "tags": []
   },
   "outputs": [],
   "source": [
    "def gradient_descent_update(w, b, dw, db, learning_rate):\n",
    "    w = w - learning_rate*dw\n",
    "    b = b - learning_rate*db\n",
    "    return w, b"
   ]
  },
  {
   "cell_type": "markdown",
   "id": "7965c135",
   "metadata": {
    "papermill": {
     "duration": 0.020635,
     "end_time": "2022-04-12T05:55:40.480947",
     "exception": false,
     "start_time": "2022-04-12T05:55:40.460312",
     "status": "completed"
    },
    "tags": []
   },
   "source": [
    "# Linear Regression model"
   ]
  },
  {
   "cell_type": "code",
   "execution_count": 7,
   "id": "0e8820bb",
   "metadata": {
    "execution": {
     "iopub.execute_input": "2022-04-12T05:55:40.531384Z",
     "iopub.status.busy": "2022-04-12T05:55:40.530700Z",
     "iopub.status.idle": "2022-04-12T05:55:40.535163Z",
     "shell.execute_reply": "2022-04-12T05:55:40.534656Z",
     "shell.execute_reply.started": "2022-03-29T13:54:45.788396Z"
    },
    "papermill": {
     "duration": 0.033523,
     "end_time": "2022-04-12T05:55:40.535306",
     "exception": false,
     "start_time": "2022-04-12T05:55:40.501783",
     "status": "completed"
    },
    "tags": []
   },
   "outputs": [],
   "source": [
    "def linear_regression_model(X_train, y_train, X_val, y_val, learning_rate, epochs):\n",
    "    lenw = X_train.shape[0]\n",
    "    costs_train = []\n",
    "    w, b = initialize(lenw)\n",
    "    for i in range(1, epochs+1):\n",
    "        z_train = hypothesis(X_train, w, b)\n",
    "        cost_train = cost_function(z_train, y_train)\n",
    "        dw, db = gradient_descent(X_train, y_train, z_train)\n",
    "        w, b = gradient_descent_update(w, b, dw, db, learning_rate)\n",
    "        if i % 10 == 0:\n",
    "            costs_train.append(cost_train)\n",
    "\n",
    "        z_val = hypothesis(X_val, w, b)\n",
    "\n",
    "\n",
    "\n",
    "\n",
    "\n",
    "        cost_val = cost_function(z_val, y_val)\n",
    "        if i % 20 == 0:\n",
    "\n",
    "           print(\"Epochs \"+ str(i)+ '/' + str(epochs)+ \": \")\n",
    "           print(\"Training cost \" + str(cost_train)+'|'+'Validation cost ' + str(cost_val))\n",
    "\n",
    "\n",
    "    plt.plot(costs_train)\n",
    "    plt.xlabel(\"Iterations\")\n",
    "    plt.ylabel(\"Training cost\")\n",
    "    plt.title(\"Learning rate\" + str(learning_rate))\n",
    "    plt.show()\n",
    "    return w, b"
   ]
  },
  {
   "cell_type": "markdown",
   "id": "244a320a",
   "metadata": {
    "papermill": {
     "duration": 0.020639,
     "end_time": "2022-04-12T05:55:40.577092",
     "exception": false,
     "start_time": "2022-04-12T05:55:40.556453",
     "status": "completed"
    },
    "tags": []
   },
   "source": [
    "## Uploading the datasets"
   ]
  },
  {
   "cell_type": "code",
   "execution_count": 8,
   "id": "2cdf9515",
   "metadata": {
    "execution": {
     "iopub.execute_input": "2022-04-12T05:55:40.626372Z",
     "iopub.status.busy": "2022-04-12T05:55:40.625735Z",
     "iopub.status.idle": "2022-04-12T05:55:41.454047Z",
     "shell.execute_reply": "2022-04-12T05:55:41.454662Z",
     "shell.execute_reply.started": "2022-03-29T13:54:45.802866Z"
    },
    "papermill": {
     "duration": 0.856126,
     "end_time": "2022-04-12T05:55:41.454830",
     "exception": false,
     "start_time": "2022-04-12T05:55:40.598704",
     "status": "completed"
    },
    "tags": []
   },
   "outputs": [
    {
     "name": "stdout",
     "output_type": "stream",
     "text": [
      "(50000,)\n"
     ]
    }
   ],
   "source": [
    "df = pd.read_csv(\"../input/linear-reg-woc/Linear_train.csv\")\n",
    "df_test = pd.read_csv(\"../input/linear-reg-woc/Linear_test.csv\")\n",
    "y = df[\"label\"]\n",
    "y_tests = df_test[\"label\"]\n",
    "print(y.shape)\n",
    "df.drop(df.columns[[0, 21]], axis=1 , inplace=True)\n",
    "df_test.drop(df_test.columns[[0, 21]], axis=1 , inplace=True)\n"
   ]
  },
  {
   "cell_type": "markdown",
   "id": "c3047a33",
   "metadata": {
    "papermill": {
     "duration": 0.021302,
     "end_time": "2022-04-12T05:55:41.497890",
     "exception": false,
     "start_time": "2022-04-12T05:55:41.476588",
     "status": "completed"
    },
    "tags": []
   },
   "source": [
    "## Data preprocessing"
   ]
  },
  {
   "cell_type": "code",
   "execution_count": 9,
   "id": "fc750a43",
   "metadata": {
    "execution": {
     "iopub.execute_input": "2022-04-12T05:55:41.547996Z",
     "iopub.status.busy": "2022-04-12T05:55:41.547311Z",
     "iopub.status.idle": "2022-04-12T05:55:41.572041Z",
     "shell.execute_reply": "2022-04-12T05:55:41.572685Z",
     "shell.execute_reply.started": "2022-03-29T13:54:46.663515Z"
    },
    "papermill": {
     "duration": 0.05327,
     "end_time": "2022-04-12T05:55:41.572858",
     "exception": false,
     "start_time": "2022-04-12T05:55:41.519588",
     "status": "completed"
    },
    "tags": []
   },
   "outputs": [
    {
     "name": "stdout",
     "output_type": "stream",
     "text": [
      "(20, 50000)\n",
      "(1, 50000)\n",
      "(1, 10000)\n"
     ]
    }
   ],
   "source": [
    "x_train_scaled = (df - df.mean())/(df.std())\n",
    "\n",
    "x_test_scaled = (df_test - df_test.mean())/(df_test.std())\n",
    "x_train = x_train_scaled.values\n",
    "x_train = x_train.T\n",
    "print(x_train.shape)\n",
    "\n",
    "y_train = np.array([y])\n",
    "print(y_train.shape)\n",
    "x_test = x_test_scaled.values\n",
    "x_test = x_test.T\n",
    "y_test = np.array([y_tests])\n",
    "print(y_test.shape)"
   ]
  },
  {
   "cell_type": "markdown",
   "id": "fcda22b6",
   "metadata": {
    "papermill": {
     "duration": 0.021402,
     "end_time": "2022-04-12T05:55:41.616369",
     "exception": false,
     "start_time": "2022-04-12T05:55:41.594967",
     "status": "completed"
    },
    "tags": []
   },
   "source": [
    "## Fitting with training samples"
   ]
  },
  {
   "cell_type": "code",
   "execution_count": 10,
   "id": "092c46d6",
   "metadata": {
    "execution": {
     "iopub.execute_input": "2022-04-12T05:55:41.664887Z",
     "iopub.status.busy": "2022-04-12T05:55:41.664185Z",
     "iopub.status.idle": "2022-04-12T05:55:43.063249Z",
     "shell.execute_reply": "2022-04-12T05:55:43.063748Z",
     "shell.execute_reply.started": "2022-03-29T13:54:46.706312Z"
    },
    "papermill": {
     "duration": 1.425796,
     "end_time": "2022-04-12T05:55:43.063916",
     "exception": false,
     "start_time": "2022-04-12T05:55:41.638120",
     "status": "completed"
    },
    "tags": []
   },
   "outputs": [
    {
     "name": "stdout",
     "output_type": "stream",
     "text": [
      "Epochs 20/1000: \n",
      "Training cost 9156104.963681798|Validation cost 8974168.900624376\n",
      "Epochs 40/1000: \n",
      "Training cost 6133413.907488117|Validation cost 6013923.100085973\n",
      "Epochs 60/1000: \n",
      "Training cost 4109012.1212666393|Validation cost 4030937.430134276\n",
      "Epochs 80/1000: \n",
      "Training cost 2753132.199969742|Validation cost 2702472.3747012024\n",
      "Epochs 100/1000: \n",
      "Training cost 1844961.7506186974|Validation cost 1812404.4676446596\n",
      "Epochs 120/1000: \n",
      "Training cost 1236637.4384492089|Validation cost 1215997.0209780321\n",
      "Epochs 140/1000: \n",
      "Training cost 829140.1708947761|Validation cost 816314.3931089336\n",
      "Epochs 160/1000: \n",
      "Training cost 556156.9232843972|Validation cost 548430.6844440618\n",
      "Epochs 180/1000: \n",
      "Training cost 373275.70512189204|Validation cost 368856.4496702369\n",
      "Epochs 200/1000: \n",
      "Training cost 250750.88456230558|Validation cost 248458.8160135701\n",
      "Epochs 220/1000: \n",
      "Training cost 168658.86358484597|Validation cost 167720.52125019464\n",
      "Epochs 240/1000: \n",
      "Training cost 113654.16810211212|Validation cost 113564.998100624\n",
      "Epochs 260/1000: \n",
      "Training cost 76797.1184947445|Validation cost 77230.07683210853\n",
      "Epochs 280/1000: \n",
      "Training cost 52099.027085264795|Validation cost 52843.87708115835\n",
      "Epochs 300/1000: \n",
      "Training cost 35547.873021766456|Validation cost 36470.935297443895\n",
      "Epochs 320/1000: \n",
      "Training cost 24455.734986868556|Validation cost 25473.253625848683\n",
      "Epochs 340/1000: \n",
      "Training cost 17021.703774642294|Validation cost 18082.26751322662\n",
      "Epochs 360/1000: \n",
      "Training cost 12039.107974855506|Validation cost 13112.08505917534\n",
      "Epochs 380/1000: \n",
      "Training cost 8699.395119770314|Validation cost 9767.355311722575\n",
      "Epochs 400/1000: \n",
      "Training cost 6460.75222501535|Validation cost 7514.526851887745\n",
      "Epochs 420/1000: \n",
      "Training cost 4960.09064737104|Validation cost 5995.573550106321\n",
      "Epochs 440/1000: \n",
      "Training cost 3954.079066656445|Validation cost 4970.172665882531\n",
      "Epochs 460/1000: \n",
      "Training cost 3279.6356874156745|Validation cost 4276.947187814997\n",
      "Epochs 480/1000: \n",
      "Training cost 2827.4567468264445|Validation cost 3807.4831755636815\n",
      "Epochs 500/1000: \n",
      "Training cost 2524.2788685310206|Validation cost 3488.9085328570577\n",
      "Epochs 520/1000: \n",
      "Training cost 2320.993067046791|Validation cost 3272.210042939443\n",
      "Epochs 540/1000: \n",
      "Training cost 2184.6795384870184|Validation cost 3124.3969314972037\n",
      "Epochs 560/1000: \n",
      "Training cost 2093.269631891978|Validation cost 3023.2432351315774\n",
      "Epochs 580/1000: \n",
      "Training cost 2031.968290832279|Validation cost 2953.759341325354\n",
      "Epochs 600/1000: \n",
      "Training cost 1990.8562437116307|Validation cost 2905.823206359593\n",
      "Epochs 620/1000: \n",
      "Training cost 1963.282822450606|Validation cost 2872.5894823418344\n",
      "Epochs 640/1000: \n",
      "Training cost 1944.7886610255555|Validation cost 2849.420592256853\n",
      "Epochs 660/1000: \n",
      "Training cost 1932.383538076198|Validation cost 2833.16811335558\n",
      "Epochs 680/1000: \n",
      "Training cost 1924.06226168398|Validation cost 2821.6893512075194\n",
      "Epochs 700/1000: \n",
      "Training cost 1918.4801146717446|Validation cost 2813.521879173288\n",
      "Epochs 720/1000: \n",
      "Training cost 1914.7352593695914|Validation cost 2807.664224836402\n",
      "Epochs 740/1000: \n",
      "Training cost 1912.2228450410753|Validation cost 2803.4279228975615\n",
      "Epochs 760/1000: \n",
      "Training cost 1910.5371852512176|Validation cost 2800.3375819459075\n",
      "Epochs 780/1000: \n",
      "Training cost 1909.4061632996834|Validation cost 2798.063279249017\n",
      "Epochs 800/1000: \n",
      "Training cost 1908.647245784675|Validation cost 2796.374742424902\n",
      "Epochs 820/1000: \n",
      "Training cost 1908.137984636293|Validation cost 2795.110230213857\n",
      "Epochs 840/1000: \n",
      "Training cost 1907.7962343150916|Validation cost 2794.1553434019975\n",
      "Epochs 860/1000: \n",
      "Training cost 1907.566883798015|Validation cost 2793.428554615866\n",
      "Epochs 880/1000: \n",
      "Training cost 1907.412957470339|Validation cost 2792.8712925606164\n",
      "Epochs 900/1000: \n",
      "Training cost 1907.3096460171864|Validation cost 2792.44112023404\n",
      "Epochs 920/1000: \n",
      "Training cost 1907.2403024158587|Validation cost 2792.1070203391623\n",
      "Epochs 940/1000: \n",
      "Training cost 1907.1937559558557|Validation cost 2791.846120123907\n",
      "Epochs 960/1000: \n",
      "Training cost 1907.1625103289246|Validation cost 2791.641402910998\n",
      "Epochs 980/1000: \n",
      "Training cost 1907.141534741689|Validation cost 2791.4800986946057\n",
      "Epochs 1000/1000: \n",
      "Training cost 1907.1274528406232|Validation cost 2791.352544243446\n"
     ]
    },
    {
     "data": {
      "image/png": "[encoded data removed]",
      "text/plain": [
       "<Figure size 432x288 with 1 Axes>"
      ]
     },
     "metadata": {
      "needs_background": "light"
     },
     "output_type": "display_data"
    }
   ],
   "source": [
    "w, b = linear_regression_model(x_train, y_train, x_test, y_test, 0.01, 1000)"
   ]
  },
  {
   "cell_type": "code",
   "execution_count": 11,
   "id": "f1ae950f",
   "metadata": {
    "execution": {
     "iopub.execute_input": "2022-04-12T05:55:43.122177Z",
     "iopub.status.busy": "2022-04-12T05:55:43.120977Z",
     "iopub.status.idle": "2022-04-12T05:55:43.126307Z",
     "shell.execute_reply": "2022-04-12T05:55:43.127355Z",
     "shell.execute_reply.started": "2022-03-29T13:55:00.441309Z"
    },
    "papermill": {
     "duration": 0.036952,
     "end_time": "2022-04-12T05:55:43.127642",
     "exception": false,
     "start_time": "2022-04-12T05:55:43.090690",
     "status": "completed"
    },
    "tags": []
   },
   "outputs": [],
   "source": [
    "targets = y_test\n",
    "predictions1 = hypothesis(x_test, w, b)"
   ]
  },
  {
   "cell_type": "markdown",
   "id": "b013fe57",
   "metadata": {
    "papermill": {
     "duration": 0.049185,
     "end_time": "2022-04-12T05:55:43.226608",
     "exception": false,
     "start_time": "2022-04-12T05:55:43.177423",
     "status": "completed"
    },
    "tags": []
   },
   "source": [
    "## Root mean squared error"
   ]
  },
  {
   "cell_type": "code",
   "execution_count": 12,
   "id": "51a811ed",
   "metadata": {
    "execution": {
     "iopub.execute_input": "2022-04-12T05:55:43.294118Z",
     "iopub.status.busy": "2022-04-12T05:55:43.293393Z",
     "iopub.status.idle": "2022-04-12T05:55:43.298296Z",
     "shell.execute_reply": "2022-04-12T05:55:43.297266Z",
     "shell.execute_reply.started": "2022-03-29T13:55:00.452367Z"
    },
    "papermill": {
     "duration": 0.037098,
     "end_time": "2022-04-12T05:55:43.298509",
     "exception": false,
     "start_time": "2022-04-12T05:55:43.261411",
     "status": "completed"
    },
    "tags": []
   },
   "outputs": [
    {
     "name": "stdout",
     "output_type": "stream",
     "text": [
      "rmse_error =  74.71750188869333\n"
     ]
    }
   ],
   "source": [
    "def rmse(predictions1, targets):\n",
    "    return np.sqrt((np.square(predictions1 - targets)).mean())\n",
    "rms_error = rmse(predictions1, targets)\n",
    "print(\"rmse_error = \", rms_error)"
   ]
  },
  {
   "cell_type": "markdown",
   "id": "8c158686",
   "metadata": {
    "papermill": {
     "duration": 0.0274,
     "end_time": "2022-04-12T05:55:43.354832",
     "exception": false,
     "start_time": "2022-04-12T05:55:43.327432",
     "status": "completed"
    },
    "tags": []
   },
   "source": [
    "## Root mean squared error from Sklearn module"
   ]
  },
  {
   "cell_type": "code",
   "execution_count": 13,
   "id": "eecf029f",
   "metadata": {
    "execution": {
     "iopub.execute_input": "2022-04-12T05:55:43.413412Z",
     "iopub.status.busy": "2022-04-12T05:55:43.412762Z",
     "iopub.status.idle": "2022-04-12T05:55:44.574019Z",
     "shell.execute_reply": "2022-04-12T05:55:44.575126Z",
     "shell.execute_reply.started": "2022-03-29T13:55:00.476975Z"
    },
    "papermill": {
     "duration": 1.192925,
     "end_time": "2022-04-12T05:55:44.575419",
     "exception": false,
     "start_time": "2022-04-12T05:55:43.382494",
     "status": "completed"
    },
    "tags": []
   },
   "outputs": [
    {
     "name": "stdout",
     "output_type": "stream",
     "text": [
      "rmse_error using sckit-learn model:  74.71076911539595\n"
     ]
    }
   ],
   "source": [
    "from sklearn.linear_model import LinearRegression\n",
    "model = LinearRegression()\n",
    "model.fit(x_train.T, y_train.T)\n",
    "predictions = model.predict(x_test.T)\n",
    "from sklearn.metrics import mean_squared_error\n",
    "lin_mse = mean_squared_error(y_test.T, predictions)\n",
    "lin_rmse = np.sqrt(lin_mse)\n",
    "print(\"rmse_error using sckit-learn model: \", lin_rmse)"
   ]
  },
  {
   "cell_type": "code",
   "execution_count": null,
   "id": "3d48812c",
   "metadata": {
    "papermill": {
     "duration": 0.034611,
     "end_time": "2022-04-12T05:55:44.699348",
     "exception": false,
     "start_time": "2022-04-12T05:55:44.664737",
     "status": "completed"
    },
    "tags": []
   },
   "outputs": [],
   "source": []
  }
 ],
 "metadata": {
  "kernelspec": {
   "display_name": "Python 3",
   "language": "python",
   "name": "python3"
  },
  "language_info": {
   "codemirror_mode": {
    "name": "ipython",
    "version": 3
   },
   "file_extension": ".py",
   "mimetype": "text/x-python",
   "name": "python",
   "nbconvert_exporter": "python",
   "pygments_lexer": "ipython3",
   "version": "3.7.12"
  },
  "papermill": {
   "default_parameters": {},
   "duration": 15.301977,
   "end_time": "2022-04-12T05:55:45.438309",
   "environment_variables": {},
   "exception": null,
   "input_path": "__notebook__.ipynb",
   "output_path": "__notebook__.ipynb",
   "parameters": {},
   "start_time": "2022-04-12T05:55:30.136332",
   "version": "2.3.3"
  }
 },
 "nbformat": 4,
 "nbformat_minor": 5
}

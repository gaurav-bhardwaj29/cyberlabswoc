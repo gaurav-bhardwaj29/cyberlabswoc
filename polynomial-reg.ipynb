{
 "cells": [
  {
   "cell_type": "code",
   "execution_count": 1,
   "id": "56078a5e",
   "metadata": {
    "execution": {
     "iopub.execute_input": "2022-04-16T03:30:05.388474Z",
     "iopub.status.busy": "2022-04-16T03:30:05.387535Z",
     "iopub.status.idle": "2022-04-16T03:30:10.760305Z",
     "shell.execute_reply": "2022-04-16T03:30:10.760806Z",
     "shell.execute_reply.started": "2022-04-16T03:28:09.867469Z"
    },
    "papermill": {
     "duration": 5.381565,
     "end_time": "2022-04-16T03:30:10.761063",
     "exception": false,
     "start_time": "2022-04-16T03:30:05.379498",
     "status": "completed"
    },
    "tags": []
   },
   "outputs": [
    {
     "name": "stdout",
     "output_type": "stream",
     "text": [
      "Index(['X', 'Y', 'Z', 'XY', 'YZ', 'ZX'], dtype='object')\n",
      "          X         Y         Z        XY        YZ        ZX\n",
      "0  1.602895  0.057199  1.034578  0.136193  0.070325  1.663779\n",
      "1  0.474656  1.049657  1.109700  0.539850  1.179462  0.537206\n",
      "2 -0.475360  1.332401 -1.198596 -0.603881 -1.621266  0.550819\n",
      "3 -1.224451 -1.608887  0.147274  1.956122 -0.239396 -0.179585\n",
      "4  0.260161 -0.397724  1.042264 -0.084404 -0.404320  0.281710\n",
      "          X         Y         Z        XY        YZ        ZX\n",
      "0  0.105753 -1.697386 -1.010452 -0.179520  1.714817 -0.109627\n",
      "1 -0.242734 -0.643264 -1.515023  0.165110  0.979786  0.361003\n",
      "2 -0.714943 -0.310736 -0.321029  0.236189  0.098314  0.228871\n",
      "3 -1.519383 -0.325833  0.670617  0.514603 -0.226185 -1.014595\n",
      "4  0.924624  0.068216  1.156332  0.068631  0.068862  1.079949\n"
     ]
    }
   ],
   "source": [
    "import matplotlib.pyplot as plt\n",
    "import pandas as pd\n",
    "import numpy as np\n",
    "def hypothesis(w,X,b):\n",
    "    y_hat = np.dot(w, X) + b\n",
    "    return y_hat\n",
    "def cost(y, y_hat):\n",
    "    \n",
    "    # Calculating cost function.\n",
    "    m = y.shape[0]\n",
    "    loss = (1/(2*m))*np.sum(np.square(y_hat-y))\n",
    "    return loss\n",
    "\n",
    "# Calulating gradient descent w.r.t. parameters(weights and bias).\n",
    "def gradient_descent(X, y, y_hat):\n",
    "    \n",
    "\n",
    "    # m-> number of training examples.\n",
    "    m = X.shape[0]\n",
    "\n",
    "    # Gradient of loss w.r.t weights.\n",
    "    dw = (1 / m) * np.dot(X.T, (y_hat - y))\n",
    "    # dw = np.dot(X.T, (1/m)*(y_hat - y))\n",
    "\n",
    "    # Gradient of loss w.r.t bias.\n",
    "    db = (1 / m) * np.sum((y_hat - y))\n",
    "    # db = np.sum((1 / m) *(y_hat - y))\n",
    "\n",
    "    return dw, db\n",
    "\n",
    "def x_transform(X, degrees):\n",
    "    \n",
    "    t = X.copy()\n",
    "    # Appending columns of higher degrees to X.\n",
    "    for i in degrees:\n",
    "        X = np.append(X, t ** i, axis=1)\n",
    "        \n",
    "        \n",
    "\n",
    "    return X\n",
    "\n",
    "def train(X, y,  degrees, epochs, lr):\n",
    "    \n",
    "\n",
    "    # Adding features to input X.\n",
    "    x = x_transform(X, degrees)\n",
    "    # print(x.shape)\n",
    "    # print(x)\n",
    "\n",
    "    # m-> number of training examples\n",
    "    # n-> number of features\n",
    "    m = x.shape[0]\n",
    "    n = x.shape[1]\n",
    "\n",
    "    # Initializing weights and bias to zeros.\n",
    "    w = np.zeros((n, 1))\n",
    "    b = 0\n",
    "\n",
    "    # Reshaping y.\n",
    "    y = y.reshape(m, 1)\n",
    "\n",
    "    # Empty list to store losses.\n",
    "    losses = []\n",
    "\n",
    "    # Training loop.\n",
    "    for epoch in range(0 , epochs):\n",
    "        \n",
    "\n",
    "            # Calculating hypothesis\n",
    "            y_hat = hypothesis(x, w, b)\n",
    "\n",
    "            # Getting the gradients of loss w.r.t parameters.\n",
    "            dw, db = gradient_descent(x, y, y_hat)\n",
    "\n",
    "            # Updating the parameters.\n",
    "\n",
    "            w = w - lr * dw\n",
    "            b = b - lr * db\n",
    "\n",
    "\n",
    "        # Calculating loss and appending it in the list.\n",
    "            l = cost(y, y_hat)\n",
    "            losses.append(l)\n",
    "\n",
    "    # returning weights, bias and losses(List).\n",
    "    return w, b, losses\n",
    "\n",
    "\n",
    "# Predicting function.\n",
    "def predict(X, w, b, degrees):\n",
    "    \n",
    "\n",
    "   \n",
    "\n",
    "    # Adding degrees to input X.\n",
    "    x1 = x_transform(X, degrees)\n",
    "\n",
    "    # Returning predictions.\n",
    "    return np.dot(x1, w) + b\n",
    "\n",
    "\n",
    "\n",
    "df = pd.read_csv(\"../input/polynomial/Polynomial_train.csv\")\n",
    "df1 = pd.read_csv(\"../input/polynomial/Polynomial_test.csv\")\n",
    "df.drop(df.columns[0], axis=1, inplace= True)\n",
    "df1.drop(df1.columns[0], axis=1, inplace= True)\n",
    "y1 = df1[\"label\"]\n",
    "y = df[\"label\"]\n",
    "\n",
    "y_train = y.values.reshape(50000,1)\n",
    "y_test = y1.values.reshape(10000, 1)\n",
    "df1.drop(df1.columns[3], axis=1, inplace= True)\n",
    "df.drop(df.columns[3], axis=1, inplace= True)\n",
    "df[\"XY\"] = df[\"X\"]*df[\"Y\"]\n",
    "df[\"YZ\"] = df[\"Y\"]*df[\"Z\"]\n",
    "df[\"ZX\"] = df[\"Z\"]*df[\"X\"]\n",
    "df1[\"XY\"] = df1[\"X\"]*df1[\"Y\"]\n",
    "df1[\"YZ\"] = df1[\"Y\"]*df1[\"Z\"]\n",
    "df1[\"ZX\"] = df1[\"Z\"]*df1[\"X\"]\n",
    "\n",
    "\n",
    "# X = (df - df.mean())/(df.max() - df.min())\n",
    "X = (df - df.mean())/(df.std())\n",
    "x_test = (df1 - df1.mean())/(df1.std())\n",
    "# x_test = (df1 - df1.mean())/(df1.max() - df1.min())\n",
    "print(x_test.columns)\n",
    "print(x_test.head())\n",
    "\n",
    "# print(X.shape)\n",
    "print(X.head())\n",
    "X.values.reshape(50000,6)\n",
    "x_test.values.reshape(10000,6)\n",
    "\n",
    "\n",
    "# print(y_train.shape)\n",
    "train_data = X\n",
    "\n",
    "\n",
    "\n",
    "w, b, l = train(train_data, y_train,  degrees=[2], epochs=10000,\n",
    "                lr=0.01)\n",
    "\n",
    "\n",
    "# print(y_train.shape)\n",
    "\n"
   ]
  },
  {
   "cell_type": "code",
   "execution_count": 2,
   "id": "fe016266",
   "metadata": {
    "execution": {
     "iopub.execute_input": "2022-04-16T03:30:10.782639Z",
     "iopub.status.busy": "2022-04-16T03:30:10.781851Z",
     "iopub.status.idle": "2022-04-16T03:30:10.789145Z",
     "shell.execute_reply": "2022-04-16T03:30:10.789730Z",
     "shell.execute_reply.started": "2022-04-16T03:28:29.648092Z"
    },
    "papermill": {
     "duration": 0.021504,
     "end_time": "2022-04-16T03:30:10.789918",
     "exception": false,
     "start_time": "2022-04-16T03:30:10.768414",
     "status": "completed"
    },
    "tags": []
   },
   "outputs": [
    {
     "name": "stdout",
     "output_type": "stream",
     "text": [
      "r2 score =  0.9999010828598515\n"
     ]
    }
   ],
   "source": [
    "# r2 score\n",
    "def r2_score(y, y_hat):\n",
    "    q = np.sum((np.array(y_hat)-np.array(y))**2)\n",
    "    e =  np.sum((np.array(y)-np.mean(np.array(y)))**2)          \n",
    "    return 1-(q/e)\n",
    "r2_scr = r2_score(y_test.reshape(10000,1), predict(x_test, w, b, [2]))\n",
    "print(\"r2 score = \", r2_scr)"
   ]
  },
  {
   "cell_type": "code",
   "execution_count": 3,
   "id": "912dc659",
   "metadata": {
    "execution": {
     "iopub.execute_input": "2022-04-16T03:30:10.817990Z",
     "iopub.status.busy": "2022-04-16T03:30:10.817174Z",
     "iopub.status.idle": "2022-04-16T03:30:10.820782Z",
     "shell.execute_reply": "2022-04-16T03:30:10.818595Z",
     "shell.execute_reply.started": "2022-04-16T03:28:34.037833Z"
    },
    "papermill": {
     "duration": 0.022171,
     "end_time": "2022-04-16T03:30:10.820939",
     "exception": false,
     "start_time": "2022-04-16T03:30:10.798768",
     "status": "completed"
    },
    "tags": []
   },
   "outputs": [
    {
     "name": "stdout",
     "output_type": "stream",
     "text": [
      "root mean square error =  11.991505442127156\n"
     ]
    }
   ],
   "source": [
    "# root mean square error\n",
    "targets = y_test\n",
    "predictions = predict(x_test, w, b, [2])\n",
    "def rmse(predictions, targets):\n",
    "    return np.sqrt((np.square(predictions - targets)).mean())\n",
    "rms_error = rmse(predictions, targets)\n",
    "print(\"root mean square error = \", rms_error)"
   ]
  },
  {
   "cell_type": "code",
   "execution_count": 4,
   "id": "e5ee0bff",
   "metadata": {
    "execution": {
     "iopub.execute_input": "2022-04-16T03:30:10.851011Z",
     "iopub.status.busy": "2022-04-16T03:30:10.850316Z",
     "iopub.status.idle": "2022-04-16T03:30:11.042313Z",
     "shell.execute_reply": "2022-04-16T03:30:11.041420Z",
     "shell.execute_reply.started": "2022-04-16T03:29:15.526300Z"
    },
    "papermill": {
     "duration": 0.211968,
     "end_time": "2022-04-16T03:30:11.042448",
     "exception": false,
     "start_time": "2022-04-16T03:30:10.830480",
     "status": "completed"
    },
    "tags": []
   },
   "outputs": [
    {
     "data": {
      "image/png": "[encoded data removed]",
      "text/plain": [
       "<Figure size 432x288 with 1 Axes>"
      ]
     },
     "metadata": {
      "needs_background": "light"
     },
     "output_type": "display_data"
    }
   ],
   "source": [
    "plt.plot(l)\n",
    "plt.xlabel(\"Number of iterations\")\n",
    "plt.ylabel(\"Cost\")\n",
    "plt.show()"
   ]
  }
 ],
 "metadata": {
  "kernelspec": {
   "display_name": "Python 3",
   "language": "python",
   "name": "python3"
  },
  "language_info": {
   "codemirror_mode": {
    "name": "ipython",
    "version": 3
   },
   "file_extension": ".py",
   "mimetype": "text/x-python",
   "name": "python",
   "nbconvert_exporter": "python",
   "pygments_lexer": "ipython3",
   "version": "3.7.12"
  },
  "papermill": {
   "default_parameters": {},
   "duration": 17.639051,
   "end_time": "2022-04-16T03:30:11.863424",
   "environment_variables": {},
   "exception": null,
   "input_path": "__notebook__.ipynb",
   "output_path": "__notebook__.ipynb",
   "parameters": {},
   "start_time": "2022-04-16T03:29:54.224373",
   "version": "2.3.3"
  }
 },
 "nbformat": 4,
 "nbformat_minor": 5
}
